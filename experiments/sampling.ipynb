{
 "cells": [
  {
   "cell_type": "raw",
   "source": [
    "%load_ext autoreload"
   ],
   "metadata": {
    "collapsed": false,
    "pycharm": {
     "name": ""
    }
   }
  },
  {
   "cell_type": "code",
   "execution_count": 26,
   "outputs": [
    {
     "name": "stdout",
     "output_type": "stream",
     "text": [
      "The autoreload extension is already loaded. To reload it, use:\n",
      "  %reload_ext autoreload\n"
     ]
    }
   ],
   "source": [
    "%load_ext autoreload\n",
    "%autoreload 2"
   ],
   "metadata": {
    "collapsed": false
   }
  },
  {
   "cell_type": "code",
   "execution_count": 27,
   "outputs": [
    {
     "data": {
      "text/plain": "functools.partial(<function custom at 0x1373f4550>, optimizer=<function auto at 0x13675eca0>, memory_limit=None, debug_level=0)"
     },
     "execution_count": 27,
     "metadata": {},
     "output_type": "execute_result"
    }
   ],
   "source": [
    "import tensorcircuit as tc\n",
    "import jax\n",
    "from jax import random\n",
    "import tqdm\n",
    "import numpy as np\n",
    "import optax\n",
    "import pandas as pd\n",
    "import matplotlib.pyplot as plt\n",
    "import time\n",
    "\n",
    "from queso.io import IO\n",
    "from queso import sensors\n",
    "from queso.quantities import classical_fisher_information\n",
    "\n",
    "backend = tc.set_backend(\"jax\")\n",
    "tc.set_dtype(\"complex128\")\n",
    "tc.set_contractor(\"auto\")  # “auto”, “greedy”, “branch”, “plain”, “tng”, “custom”\n"
   ],
   "metadata": {
    "collapsed": false
   }
  },
  {
   "cell_type": "code",
   "execution_count": 28,
   "outputs": [],
   "source": [
    "def cnot_2local_ansatz(params, n, k):\n",
    "    c = tc.Circuit(n)\n",
    "    for i in range(k):\n",
    "        for j in range(n):\n",
    "            c.r(\n",
    "                j,\n",
    "                theta=params[3 * j, i],\n",
    "                alpha=params[3 * j + 1, i],\n",
    "                phi=params[3 * j + 2, i],\n",
    "            )\n",
    "\n",
    "        for j in range(1, n, 2):\n",
    "            c.cnot(j - 1, j)\n",
    "\n",
    "        for j in range(2, n, 2):\n",
    "            c.cnot(j - 1, j)\n",
    "    return c"
   ],
   "metadata": {
    "collapsed": false
   }
  },
  {
   "cell_type": "code",
   "execution_count": 29,
   "outputs": [],
   "source": [
    "n = 15\n",
    "k = 4\n",
    "n_samples = 1000\n",
    "ansatz = \"cnot_2local_ansatz\"\n",
    "seed = 0"
   ],
   "metadata": {
    "collapsed": false
   }
  },
  {
   "cell_type": "code",
   "execution_count": 30,
   "outputs": [],
   "source": [
    "shape = [3 * n, k]\n",
    "key = random.PRNGKey(seed)\n",
    "theta = random.uniform(key, shape, minval=0, maxval=2*np.pi)\n",
    "\n",
    "circ = cnot_2local_ansatz(theta, n, k)"
   ],
   "metadata": {
    "collapsed": false
   }
  },
  {
   "cell_type": "code",
   "execution_count": 32,
   "outputs": [
    {
     "name": "stdout",
     "output_type": "stream",
     "text": [
      "[[0 0 1 1 1 0 1 1 1 0 0 0 1 1 0]\n",
      " [0 0 1 0 1 1 0 1 1 0 0 0 1 1 1]\n",
      " [0 1 0 1 1 1 0 1 0 0 1 1 0 1 1]\n",
      " [1 0 1 0 1 1 0 0 1 1 1 1 0 1 0]\n",
      " [0 0 1 0 0 0 0 1 1 1 0 0 0 0 0]\n",
      " [0 1 1 1 1 1 0 1 1 0 0 0 0 0 1]\n",
      " [0 0 0 0 1 0 0 1 1 1 0 1 1 1 0]\n",
      " [1 0 0 0 0 1 0 1 1 0 1 1 1 0 0]\n",
      " [0 1 0 0 1 1 1 0 0 1 0 0 0 0 0]\n",
      " [0 1 1 0 1 0 0 1 0 1 0 0 1 0 1]]\n"
     ]
    }
   ],
   "source": [
    "x, p = zip(*circ.sample(batch=10))\n",
    "shots = np.stack(x).astype(\"int8\")\n",
    "print(shots)"
   ],
   "metadata": {
    "collapsed": false
   }
  },
  {
   "cell_type": "code",
   "execution_count": 33,
   "outputs": [
    {
     "ename": "ModuleNotFoundError",
     "evalue": "No module named 'quimb'",
     "output_type": "error",
     "traceback": [
      "\u001B[0;31m---------------------------------------------------------------------------\u001B[0m",
      "\u001B[0;31mModuleNotFoundError\u001B[0m                       Traceback (most recent call last)",
      "Cell \u001B[0;32mIn[33], line 1\u001B[0m\n\u001B[0;32m----> 1\u001B[0m \u001B[38;5;28;01mimport\u001B[39;00m \u001B[38;5;21;01mquimb\u001B[39;00m\n",
      "\u001B[0;31mModuleNotFoundError\u001B[0m: No module named 'quimb'"
     ]
    }
   ],
   "source": [
    "import quimb"
   ],
   "metadata": {
    "collapsed": false
   }
  }
 ],
 "metadata": {
  "kernelspec": {
   "display_name": "Python 3",
   "language": "python",
   "name": "python3"
  },
  "language_info": {
   "codemirror_mode": {
    "name": "ipython",
    "version": 2
   },
   "file_extension": ".py",
   "mimetype": "text/x-python",
   "name": "python",
   "nbconvert_exporter": "python",
   "pygments_lexer": "ipython2",
   "version": "2.7.6"
  }
 },
 "nbformat": 4,
 "nbformat_minor": 0
}
