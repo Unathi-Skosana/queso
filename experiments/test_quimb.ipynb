{
 "cells": [
  {
   "cell_type": "code",
   "execution_count": 4,
   "metadata": {},
   "outputs": [],
   "source": [
    "import random\n",
    "import quimb as qu\n",
    "import quimb.tensor as qtn\n",
    "import jax.numpy as np\n",
    "import jax\n",
    "from functools import reduce"
   ]
  },
  {
   "cell_type": "code",
   "execution_count": 5,
   "metadata": {},
   "outputs": [
    {
     "name": "stdout",
     "output_type": "stream",
     "text": [
      "111111111111111\n"
     ]
    }
   ],
   "source": [
    "n = 15\n",
    "n_layers = 1\n",
    "circ = qtn.Circuit(n)\n",
    "\n",
    "regs = list(range(n))\n",
    "\n",
    "for layer in range(n_layers):\n",
    "    circ.apply_gate(\"H\", regs[0])\n",
    "\n",
    "    for i in range(n-1):\n",
    "        circ.apply_gate('CNOT', regs[i], regs[i + 1])\n",
    "    # circ.apply_gate('H', regs[0])\n",
    "\n",
    "    # for i in range(0, n-1, 2):\n",
    "    #     circ.apply_gate('CNOT', regs[i], regs[i + 1])\n",
    "    # for i in range(1, n-1, 2):\n",
    "    #     circ.apply_gate('CNOT', regs[i], regs[i + 1])\n",
    "\n",
    "# sample it a few times\n",
    "for b in circ.sample(1):\n",
    "    print(b)"
   ]
  },
  {
   "cell_type": "code",
   "execution_count": 6,
   "metadata": {},
   "outputs": [
    {
     "name": "stdout",
     "output_type": "stream",
     "text": [
      "000000000000000\n",
      "111111111111111\n",
      "111111111111111\n",
      "000000000000000\n",
      "111111111111111\n",
      "111111111111111\n",
      "111111111111111\n",
      "111111111111111\n",
      "111111111111111\n",
      "111111111111111\n"
     ]
    }
   ],
   "source": [
    "# sample it a few times\n",
    "for b in circ.sample(10):\n",
    "    print(b)"
   ]
  },
  {
   "cell_type": "code",
   "execution_count": 7,
   "metadata": {},
   "outputs": [
    {
     "data": {
      "text/plain": [
       "(32768, 1)"
      ]
     },
     "execution_count": 7,
     "metadata": {},
     "output_type": "execute_result"
    }
   ],
   "source": [
    "circ.to_dense().shape"
   ]
  },
  {
   "cell_type": "code",
   "execution_count": 8,
   "metadata": {},
   "outputs": [
    {
     "name": "stdout",
     "output_type": "stream",
     "text": [
      "(0.99999994+0j)\n"
     ]
    }
   ],
   "source": [
    "target_state = 1/np.sqrt(2) * np.array(reduce(np.kron, n * [np.array([1.0, 0.0])]) + reduce(np.kron, n * [np.array([0.0, 1.0])]))[:,None]\n",
    "print((target_state.T @ circ.to_dense()).squeeze())"
   ]
  },
  {
   "cell_type": "code",
   "execution_count": null,
   "metadata": {},
   "outputs": [],
   "source": [
    "def loss_func(circ, )"
   ]
  },
  {
   "attachments": {},
   "cell_type": "markdown",
   "metadata": {},
   "source": [
    "# TRY 12"
   ]
  },
  {
   "cell_type": "code",
   "execution_count": null,
   "metadata": {},
   "outputs": [],
   "source": [
    "import quimb as qu\n",
    "import quimb.tensor as qtn"
   ]
  },
  {
   "cell_type": "code",
   "execution_count": 11,
   "metadata": {},
   "outputs": [],
   "source": [
    "def single_qubit_layer(circ, gate_round=None):\n",
    "    \"\"\"Apply a parametrizable layer of single qubit ``U3`` gates.\n",
    "    \"\"\"\n",
    "    for i in range(circ.N):\n",
    "        # initialize with random parameters\n",
    "        params = qu.randn(3, dist='uniform')\n",
    "        circ.apply_gate(\n",
    "            'U3', *params, i, \n",
    "            gate_round=gate_round, parametrize=True)\n",
    "        \n",
    "def two_qubit_layer(circ, gate2='CZ', reverse=False, gate_round=None):\n",
    "    \"\"\"Apply a layer of constant entangling gates.\n",
    "    \"\"\"\n",
    "    regs = range(0, circ.N - 1)\n",
    "    if reverse:\n",
    "        regs = reversed(regs)\n",
    "    \n",
    "    for i in regs:\n",
    "        circ.apply_gate(\n",
    "            gate2, i, i + 1, gate_round=gate_round)\n",
    "\n",
    "def ansatz_circuit(n, depth, gate2='CZ', **kwargs):\n",
    "    \"\"\"Construct a circuit of single qubit and entangling layers.\n",
    "    \"\"\"\n",
    "    circ = qtn.Circuit(n, **kwargs)\n",
    "    \n",
    "    for r in range(depth):\n",
    "        # single qubit gate layer\n",
    "        single_qubit_layer(circ, gate_round=r)\n",
    "        \n",
    "        # alternate between forward and backward CZ layers\n",
    "        two_qubit_layer(\n",
    "            circ, gate2=gate2, gate_round=r, reverse=r % 2 == 0)\n",
    "        \n",
    "    # add a final single qubit layer\n",
    "    single_qubit_layer(circ, gate_round=r + 1)\n",
    "    \n",
    "    return circ"
   ]
  },
  {
   "cell_type": "code",
   "execution_count": 19,
   "metadata": {},
   "outputs": [
    {
     "data": {
      "text/plain": [
       "<Circuit(n=6, num_gates=105, gate_opts={'contract': 'auto-split-gate', 'propagate_tags': 'register'})>"
      ]
     },
     "execution_count": 19,
     "metadata": {},
     "output_type": "execute_result"
    }
   ],
   "source": [
    "n = 6\n",
    "depth = 9\n",
    "gate2 = 'CZ'\n",
    "\n",
    "circ = ansatz_circuit(n, depth)\n",
    "circ"
   ]
  },
  {
   "cell_type": "code",
   "execution_count": 14,
   "metadata": {},
   "outputs": [
    {
     "name": "stdout",
     "output_type": "stream",
     "text": [
      "252 ms ± 13.9 ms per loop (mean ± std. dev. of 7 runs, 1 loop each)\n"
     ]
    }
   ],
   "source": [
    "%%timeit\n",
    "circ.to_dense_rehearse()\n",
    "circ.sample_rehearse()"
   ]
  },
  {
   "cell_type": "code",
   "execution_count": 18,
   "metadata": {},
   "outputs": [
    {
     "data": {
      "text/plain": [
       "[[-0.387681-0.155184j]\n",
       " [ 0.21882 -0.057229j]\n",
       " [-0.360533-0.029628j]\n",
       " [-0.013944+0.259611j]\n",
       " [ 0.018794-0.348116j]\n",
       " [ 0.078477+0.195204j]\n",
       " [ 0.075456+0.014523j]\n",
       " [-0.000824+0.050195j]\n",
       " [-0.041262+0.124912j]\n",
       " [ 0.012531-0.056294j]\n",
       " [-0.008162+0.044117j]\n",
       " [ 0.035456-0.015635j]\n",
       " [ 0.08161 +0.023647j]\n",
       " [-0.05527 -0.01638j ]\n",
       " [ 0.011912+0.067322j]\n",
       " [-0.011198+0.054661j]\n",
       " [ 0.122294+0.120694j]\n",
       " [-0.091159-0.01196j ]\n",
       " [ 0.132647+0.072549j]\n",
       " [ 0.050664-0.103797j]\n",
       " [-0.109437+0.152485j]\n",
       " [ 0.001648-0.114779j]\n",
       " [-0.049922-0.02555j ]\n",
       " [ 0.007514-0.043846j]\n",
       " [-0.029047+0.208009j]\n",
       " [-0.036264-0.109047j]\n",
       " [ 0.017503+0.113677j]\n",
       " [ 0.100804-0.036938j]\n",
       " [ 0.043721+0.075011j]\n",
       " [-0.057441-0.042526j]\n",
       " [-0.069799+0.016101j]\n",
       " [-0.020723+0.033859j]\n",
       " [-0.070423-0.133119j]\n",
       " [ 0.076105+0.037789j]\n",
       " [-0.085453-0.098192j]\n",
       " [-0.063504+0.06733j ]\n",
       " [ 0.089742-0.082248j]\n",
       " [-0.025838+0.062703j]\n",
       " [ 0.01679 +0.011997j]\n",
       " [-0.01289 +0.014274j]\n",
       " [-0.071205+0.009542j]\n",
       " [ 0.026333-0.017203j]\n",
       " [-0.0428  +0.011661j]\n",
       " [ 0.014674+0.024918j]\n",
       " [ 0.015189-0.010802j]\n",
       " [ 0.004185+0.005171j]\n",
       " [-0.021956+0.019413j]\n",
       " [-0.015935+0.014504j]\n",
       " [ 0.093391-0.021612j]\n",
       " [-0.034354+0.043365j]\n",
       " [ 0.081849-0.037625j]\n",
       " [-0.021062-0.052841j]\n",
       " [ 0.002293+0.085142j]\n",
       " [-0.01403 -0.050385j]\n",
       " [-0.026746-0.004932j]\n",
       " [-0.007405-0.02321j ]\n",
       " [ 0.035055+0.051863j]\n",
       " [-0.032518-0.013004j]\n",
       " [ 0.035736+0.023443j]\n",
       " [ 0.018882-0.031286j]\n",
       " [-0.007511+0.018954j]\n",
       " [-0.000411-0.006714j]\n",
       " [-0.002916+0.010138j]\n",
       " [ 0.005858+0.006922j]]"
      ]
     },
     "execution_count": 18,
     "metadata": {},
     "output_type": "execute_result"
    }
   ],
   "source": [
    "# %%timeit\n",
    "# for b in circ.sample(10):\n",
    "    # print(b)\n",
    "# circ.to_dense()"
   ]
  },
  {
   "cell_type": "code",
   "execution_count": 26,
   "metadata": {},
   "outputs": [
    {
     "name": "stdout",
     "output_type": "stream",
     "text": [
      "oset(['I0', 'I1', 'I2', 'I3', 'I4', 'I5', 'PSI0', 'GATE_0', 'ROUND_0', 'U3', 'GATE_1', 'GATE_2', 'GATE_3', 'GATE_4', 'GATE_5', 'GATE_6', 'CZ', 'GATE_7', 'GATE_8', 'GATE_9', 'GATE_10', 'GATE_11', 'ROUND_1', 'GATE_12', 'GATE_13', 'GATE_14', 'GATE_15', 'GATE_16', 'GATE_17', 'GATE_18', 'GATE_19', 'GATE_20', 'GATE_21', 'GATE_22', 'ROUND_2', 'GATE_23', 'GATE_24', 'GATE_25', 'GATE_26', 'GATE_27', 'GATE_28', 'GATE_29', 'GATE_30', 'GATE_31', 'GATE_32', 'GATE_33', 'ROUND_3', 'GATE_34', 'GATE_35', 'GATE_36', 'GATE_37', 'GATE_38', 'GATE_39', 'GATE_40', 'GATE_41', 'GATE_42', 'GATE_43', 'GATE_44', 'ROUND_4', 'GATE_45', 'GATE_46', 'GATE_47', 'GATE_48', 'GATE_49', 'GATE_50', 'GATE_51', 'GATE_52', 'GATE_53', 'GATE_54', 'GATE_55', 'ROUND_5', 'GATE_56', 'GATE_57', 'GATE_58', 'GATE_59', 'GATE_60', 'GATE_61', 'GATE_62', 'GATE_63', 'GATE_64', 'GATE_65', 'GATE_66', 'ROUND_6', 'GATE_67', 'GATE_68', 'GATE_69', 'GATE_70', 'GATE_71', 'GATE_72', 'GATE_73', 'GATE_74', 'GATE_75', 'GATE_76', 'GATE_77', 'ROUND_7', 'GATE_78', 'GATE_79', 'GATE_80', 'GATE_81', 'GATE_82', 'GATE_83', 'GATE_84', 'GATE_85', 'GATE_86', 'GATE_87', 'GATE_88', 'ROUND_8', 'GATE_89', 'GATE_90', 'GATE_91', 'GATE_92', 'GATE_93', 'GATE_94', 'GATE_95', 'GATE_96', 'GATE_97', 'GATE_98', 'GATE_99', 'ROUND_9', 'GATE_100', 'GATE_101', 'GATE_102', 'GATE_103', 'GATE_104'])\n"
     ]
    }
   ],
   "source": [
    "V = circ.psi\n",
    "circ.\n",
    "# V.draw(color=['U3', gate2], show_inds=True)\n"
   ]
  },
  {
   "cell_type": "code",
   "execution_count": null,
   "metadata": {},
   "outputs": [],
   "source": [
    "# the hamiltonian\n",
    "H = qu.ham_ising(n, jz=1.0, bx=0.7, cyclic=False)\n",
    "\n",
    "# the propagator for the hamiltonian\n",
    "t = 2\n",
    "U_dense = qu.expm(-1j * t * H)\n",
    "\n",
    "psi_target = 1/np.sqrt(2) * np.array(reduce(np.kron, n * [np.array([1.0, 0.0])]) + reduce(np.kron, n * [np.array([0.0, 1.0])]))[:,None]\n",
    "\n",
    "\n",
    "# 'tensorized' version of the unitary propagator\n",
    "U = qtn.Tensor(\n",
    "    data=U_dense.reshape([2] * (2 * n)),\n",
    "    inds=[f'k{i}' for i in range(n)] + [f'b{i}' for i in range(n)],\n",
    "    tags={'PSI_TARGET'}\n",
    ")\n",
    "U.draw(color=['U3', gate2, 'U_TARGET'])"
   ]
  }
 ],
 "metadata": {
  "kernelspec": {
   "display_name": "qsense",
   "language": "python",
   "name": "python3"
  },
  "language_info": {
   "codemirror_mode": {
    "name": "ipython",
    "version": 3
   },
   "file_extension": ".py",
   "mimetype": "text/x-python",
   "name": "python",
   "nbconvert_exporter": "python",
   "pygments_lexer": "ipython3",
   "version": "3.9.6"
  },
  "orig_nbformat": 4,
  "vscode": {
   "interpreter": {
    "hash": "c9ece136aab7da45b65e49304d3c70ebfcaf5499db0f2bc303fe0ef23b1a50fa"
   }
  }
 },
 "nbformat": 4,
 "nbformat_minor": 2
}
