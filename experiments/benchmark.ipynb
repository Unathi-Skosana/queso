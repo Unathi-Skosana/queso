{
 "cells": [
  {
   "cell_type": "code",
   "execution_count": 21,
   "outputs": [
    {
     "name": "stdout",
     "output_type": "stream",
     "text": [
      "The autoreload extension is already loaded. To reload it, use:\n",
      "  %reload_ext autoreload\n"
     ]
    }
   ],
   "source": [
    "%load_ext autoreload\n",
    "%autoreload 2"
   ],
   "metadata": {
    "collapsed": false
   }
  },
  {
   "cell_type": "code",
   "execution_count": 22,
   "metadata": {
    "collapsed": true
   },
   "outputs": [
    {
     "name": "stdout",
     "output_type": "stream",
     "text": [
      "[ 0.31477246-0.3843014j   0.19758867+0.01313797j -0.12203943-0.03752252j\n",
      " -0.07016478+0.19542567j  0.25725755+0.37216403j -0.05611895+0.1215237j\n",
      " -0.12127692-0.23931877j -0.37968784-0.03291814j -0.22870433+0.02563431j\n",
      "  0.07229804-0.03830751j -0.22201793+0.03540559j -0.09960696+0.10683048j\n",
      " -0.09485266-0.23841816j  0.01973272-0.07862855j -0.01788557+0.00127606j\n",
      "  0.09885021+0.02694576j]\n",
      "[0.24676927 0.03921389 0.01630156 0.04311429 0.20468751 0.01791735\n",
      " 0.07198157 0.14524646 0.05296279 0.00669447 0.05054552 0.0213343\n",
      " 0.06584024 0.00657183 0.00032152 0.01049744]\n",
      "[[0 1 0 0]\n",
      " [0 0 0 0]\n",
      " [1 0 1 0]\n",
      " [1 0 0 0]\n",
      " [0 0 1 1]\n",
      " [1 1 0 0]\n",
      " [0 0 0 0]\n",
      " [1 0 1 1]\n",
      " [0 0 0 0]\n",
      " [0 1 1 1]]\n",
      "2.983996744457663\n",
      "1.2025993538923774\n"
     ]
    }
   ],
   "source": [
    "from typing import Sequence\n",
    "import itertools\n",
    "import time\n",
    "import tqdm\n",
    "import matplotlib.pyplot as plt\n",
    "\n",
    "import pennylane as qml\n",
    "import jax\n",
    "import jax.numpy as jnp\n",
    "import optax\n",
    "import flax.linen as nn\n",
    "\n",
    "from queso.sensor import Sensor, RegressionEstimator\n",
    "\n",
    "\n",
    "n = 4\n",
    "k = 4\n",
    "key = jax.random.PRNGKey(0)\n",
    "phi = jnp.array(0.0)\n",
    "theta = jax.random.uniform(key, shape=[n, 3*k])\n",
    "mu = jax.random.uniform(key, shape=[n, 3])\n",
    "sensor = Sensor(n=n, k=k, shots=10)\n",
    "\n",
    "print(sensor.state(theta, phi, mu))\n",
    "print(sensor.probs(theta, phi, mu))\n",
    "print(sensor.sample(theta, phi, mu, shots=10))\n",
    "# print(sensor.counts(theta, phi, mu, shots=10))\n",
    "print(sensor.qfi(theta, phi, mu))\n",
    "print(sensor.cfi(theta, phi, mu))"
   ]
  },
  {
   "cell_type": "code",
   "execution_count": 11,
   "outputs": [
    {
     "name": "stdout",
     "output_type": "stream",
     "text": [
      "6.84 ms ± 493 µs per loop (mean ± std. dev. of 7 runs, 100 loops each)\n"
     ]
    }
   ],
   "source": [
    "%%timeit\n",
    "sensor.sample(theta, phi, mu, shots=100)"
   ],
   "metadata": {
    "collapsed": false
   }
  },
  {
   "cell_type": "code",
   "execution_count": 43,
   "outputs": [
    {
     "ename": "InterfaceUnsupportedError",
     "evalue": "The new JAX JIT interface of PennyLane requires JAX and and JAX lib version below 0.4.4. Please downgrade these packages.If you are using pip to manage your packages, you can run the following command:\n\n\tpip install 'jax==0.4.3' 'jaxlib==0.4.3'\n\nIf you are using conda to manage your packages, you can run the following command:\n\n\tconda install 'jax==0.4.3' 'jaxlib==0.4.3'\n\n",
     "output_type": "error",
     "traceback": [
      "\u001B[0;31m---------------------------------------------------------------------------\u001B[0m",
      "\u001B[0;31mInterfaceUnsupportedError\u001B[0m                 Traceback (most recent call last)",
      "Cell \u001B[0;32mIn[43], line 6\u001B[0m\n\u001B[1;32m      3\u001B[0m     \u001B[38;5;28;01mreturn\u001B[39;00m sensor\u001B[38;5;241m.\u001B[39msample_nonjit(theta, phi, mu, shots\u001B[38;5;241m=\u001B[39m\u001B[38;5;241m100\u001B[39m)\n\u001B[1;32m      5\u001B[0m test_jit \u001B[38;5;241m=\u001B[39m jax\u001B[38;5;241m.\u001B[39mjit(test)\n\u001B[0;32m----> 6\u001B[0m \u001B[43mtest_jit\u001B[49m\u001B[43m(\u001B[49m\u001B[43mtheta\u001B[49m\u001B[43m,\u001B[49m\u001B[43m \u001B[49m\u001B[43mphi\u001B[49m\u001B[43m,\u001B[49m\u001B[43m \u001B[49m\u001B[43mmu\u001B[49m\u001B[43m)\u001B[49m\n",
      "    \u001B[0;31m[... skipping hidden 12 frame]\u001B[0m\n",
      "Cell \u001B[0;32mIn[43], line 3\u001B[0m, in \u001B[0;36mtest\u001B[0;34m(theta, phi, mu)\u001B[0m\n\u001B[1;32m      2\u001B[0m \u001B[38;5;28;01mdef\u001B[39;00m \u001B[38;5;21mtest\u001B[39m(theta, phi, mu):\n\u001B[0;32m----> 3\u001B[0m     \u001B[38;5;28;01mreturn\u001B[39;00m \u001B[43msensor\u001B[49m\u001B[38;5;241;43m.\u001B[39;49m\u001B[43msample_nonjit\u001B[49m\u001B[43m(\u001B[49m\u001B[43mtheta\u001B[49m\u001B[43m,\u001B[49m\u001B[43m \u001B[49m\u001B[43mphi\u001B[49m\u001B[43m,\u001B[49m\u001B[43m \u001B[49m\u001B[43mmu\u001B[49m\u001B[43m,\u001B[49m\u001B[43m \u001B[49m\u001B[43mshots\u001B[49m\u001B[38;5;241;43m=\u001B[39;49m\u001B[38;5;241;43m100\u001B[39;49m\u001B[43m)\u001B[49m\n",
      "File \u001B[0;32m~/.virtualenvs/qsense/lib/python3.9/site-packages/pennylane/qnode.py:867\u001B[0m, in \u001B[0;36mQNode.__call__\u001B[0;34m(self, *args, **kwargs)\u001B[0m\n\u001B[1;32m    865\u001B[0m     \u001B[38;5;28mself\u001B[39m\u001B[38;5;241m.\u001B[39mexecute_kwargs\u001B[38;5;241m.\u001B[39mpop(\u001B[38;5;124m\"\u001B[39m\u001B[38;5;124mmode\u001B[39m\u001B[38;5;124m\"\u001B[39m)\n\u001B[1;32m    866\u001B[0m \u001B[38;5;66;03m# pylint: disable=unexpected-keyword-arg\u001B[39;00m\n\u001B[0;32m--> 867\u001B[0m res \u001B[38;5;241m=\u001B[39m \u001B[43mqml\u001B[49m\u001B[38;5;241;43m.\u001B[39;49m\u001B[43mexecute\u001B[49m\u001B[43m(\u001B[49m\n\u001B[1;32m    868\u001B[0m \u001B[43m    \u001B[49m\u001B[43m[\u001B[49m\u001B[38;5;28;43mself\u001B[39;49m\u001B[38;5;241;43m.\u001B[39;49m\u001B[43mtape\u001B[49m\u001B[43m]\u001B[49m\u001B[43m,\u001B[49m\n\u001B[1;32m    869\u001B[0m \u001B[43m    \u001B[49m\u001B[43mdevice\u001B[49m\u001B[38;5;241;43m=\u001B[39;49m\u001B[38;5;28;43mself\u001B[39;49m\u001B[38;5;241;43m.\u001B[39;49m\u001B[43mdevice\u001B[49m\u001B[43m,\u001B[49m\n\u001B[1;32m    870\u001B[0m \u001B[43m    \u001B[49m\u001B[43mgradient_fn\u001B[49m\u001B[38;5;241;43m=\u001B[39;49m\u001B[38;5;28;43mself\u001B[39;49m\u001B[38;5;241;43m.\u001B[39;49m\u001B[43mgradient_fn\u001B[49m\u001B[43m,\u001B[49m\n\u001B[1;32m    871\u001B[0m \u001B[43m    \u001B[49m\u001B[43minterface\u001B[49m\u001B[38;5;241;43m=\u001B[39;49m\u001B[38;5;28;43mself\u001B[39;49m\u001B[38;5;241;43m.\u001B[39;49m\u001B[43minterface\u001B[49m\u001B[43m,\u001B[49m\n\u001B[1;32m    872\u001B[0m \u001B[43m    \u001B[49m\u001B[43mgradient_kwargs\u001B[49m\u001B[38;5;241;43m=\u001B[39;49m\u001B[38;5;28;43mself\u001B[39;49m\u001B[38;5;241;43m.\u001B[39;49m\u001B[43mgradient_kwargs\u001B[49m\u001B[43m,\u001B[49m\n\u001B[1;32m    873\u001B[0m \u001B[43m    \u001B[49m\u001B[43moverride_shots\u001B[49m\u001B[38;5;241;43m=\u001B[39;49m\u001B[43moverride_shots\u001B[49m\u001B[43m,\u001B[49m\n\u001B[1;32m    874\u001B[0m \u001B[43m    \u001B[49m\u001B[38;5;241;43m*\u001B[39;49m\u001B[38;5;241;43m*\u001B[39;49m\u001B[38;5;28;43mself\u001B[39;49m\u001B[38;5;241;43m.\u001B[39;49m\u001B[43mexecute_kwargs\u001B[49m\u001B[43m,\u001B[49m\n\u001B[1;32m    875\u001B[0m \u001B[43m\u001B[49m\u001B[43m)\u001B[49m\n\u001B[1;32m    877\u001B[0m res \u001B[38;5;241m=\u001B[39m res[\u001B[38;5;241m0\u001B[39m]\n\u001B[1;32m    879\u001B[0m \u001B[38;5;28;01mif\u001B[39;00m old_interface \u001B[38;5;241m==\u001B[39m \u001B[38;5;124m\"\u001B[39m\u001B[38;5;124mauto\u001B[39m\u001B[38;5;124m\"\u001B[39m:\n",
      "File \u001B[0;32m~/.virtualenvs/qsense/lib/python3.9/site-packages/pennylane/interfaces/execution.py:483\u001B[0m, in \u001B[0;36mexecute\u001B[0;34m(tapes, device, gradient_fn, interface, grad_on_execution, gradient_kwargs, cache, cachesize, max_diff, override_shots, expand_fn, max_expansion, device_batch_transform)\u001B[0m\n\u001B[1;32m    480\u001B[0m     \u001B[38;5;28;01melif\u001B[39;00m mapped_interface \u001B[38;5;241m==\u001B[39m \u001B[38;5;124m\"\u001B[39m\u001B[38;5;124mjax\u001B[39m\u001B[38;5;124m\"\u001B[39m:\n\u001B[1;32m    481\u001B[0m         _execute \u001B[38;5;241m=\u001B[39m _get_jax_execute_fn(interface, tapes)\n\u001B[0;32m--> 483\u001B[0m     res \u001B[38;5;241m=\u001B[39m \u001B[43m_execute\u001B[49m\u001B[43m(\u001B[49m\n\u001B[1;32m    484\u001B[0m \u001B[43m        \u001B[49m\u001B[43mtapes\u001B[49m\u001B[43m,\u001B[49m\u001B[43m \u001B[49m\u001B[43mdevice\u001B[49m\u001B[43m,\u001B[49m\u001B[43m \u001B[49m\u001B[43mexecute_fn\u001B[49m\u001B[43m,\u001B[49m\u001B[43m \u001B[49m\u001B[43mgradient_fn\u001B[49m\u001B[43m,\u001B[49m\u001B[43m \u001B[49m\u001B[43mgradient_kwargs\u001B[49m\u001B[43m,\u001B[49m\u001B[43m \u001B[49m\u001B[43m_n\u001B[49m\u001B[38;5;241;43m=\u001B[39;49m\u001B[38;5;241;43m1\u001B[39;49m\u001B[43m,\u001B[49m\u001B[43m \u001B[49m\u001B[43mmax_diff\u001B[49m\u001B[38;5;241;43m=\u001B[39;49m\u001B[43mmax_diff\u001B[49m\n\u001B[1;32m    485\u001B[0m \u001B[43m    \u001B[49m\u001B[43m)\u001B[49m\n\u001B[1;32m    487\u001B[0m \u001B[38;5;28;01mexcept\u001B[39;00m \u001B[38;5;167;01mImportError\u001B[39;00m \u001B[38;5;28;01mas\u001B[39;00m e:\n\u001B[1;32m    488\u001B[0m     \u001B[38;5;28;01mraise\u001B[39;00m qml\u001B[38;5;241m.\u001B[39mQuantumFunctionError(\n\u001B[1;32m    489\u001B[0m         \u001B[38;5;124mf\u001B[39m\u001B[38;5;124m\"\u001B[39m\u001B[38;5;132;01m{\u001B[39;00mmapped_interface\u001B[38;5;132;01m}\u001B[39;00m\u001B[38;5;124m not found. Please install the latest \u001B[39m\u001B[38;5;124m\"\u001B[39m\n\u001B[1;32m    490\u001B[0m         \u001B[38;5;124mf\u001B[39m\u001B[38;5;124m\"\u001B[39m\u001B[38;5;124mversion of \u001B[39m\u001B[38;5;132;01m{\u001B[39;00mmapped_interface\u001B[38;5;132;01m}\u001B[39;00m\u001B[38;5;124m to enable the \u001B[39m\u001B[38;5;124m'\u001B[39m\u001B[38;5;132;01m{\u001B[39;00mmapped_interface\u001B[38;5;132;01m}\u001B[39;00m\u001B[38;5;124m'\u001B[39m\u001B[38;5;124m interface.\u001B[39m\u001B[38;5;124m\"\u001B[39m\n\u001B[1;32m    491\u001B[0m     ) \u001B[38;5;28;01mfrom\u001B[39;00m \u001B[38;5;21;01me\u001B[39;00m\n",
      "File \u001B[0;32m~/.virtualenvs/qsense/lib/python3.9/site-packages/pennylane/interfaces/jax_jit_tuple.py:158\u001B[0m, in \u001B[0;36mexecute\u001B[0;34m(tapes, device, execute_fn, gradient_fn, gradient_kwargs, _n, max_diff)\u001B[0m\n\u001B[1;32m    132\u001B[0m \u001B[38;5;250m\u001B[39m\u001B[38;5;124;03m\"\"\"Execute a batch of tapes with JAX parameters on a device.\u001B[39;00m\n\u001B[1;32m    133\u001B[0m \n\u001B[1;32m    134\u001B[0m \u001B[38;5;124;03mArgs:\u001B[39;00m\n\u001B[0;32m   (...)\u001B[0m\n\u001B[1;32m    155\u001B[0m \u001B[38;5;124;03m    the returned list corresponds in order to the provided tapes.\u001B[39;00m\n\u001B[1;32m    156\u001B[0m \u001B[38;5;124;03m\"\"\"\u001B[39;00m\n\u001B[1;32m    157\u001B[0m \u001B[38;5;66;03m# pylint: disable=unused-argument\u001B[39;00m\n\u001B[0;32m--> 158\u001B[0m \u001B[43m_validate_jax_version\u001B[49m\u001B[43m(\u001B[49m\u001B[43m)\u001B[49m\n\u001B[1;32m    160\u001B[0m \u001B[38;5;28;01mif\u001B[39;00m \u001B[38;5;28many\u001B[39m(\n\u001B[1;32m    161\u001B[0m     m\u001B[38;5;241m.\u001B[39mreturn_type \u001B[38;5;129;01min\u001B[39;00m (qml\u001B[38;5;241m.\u001B[39mmeasurements\u001B[38;5;241m.\u001B[39mCounts, qml\u001B[38;5;241m.\u001B[39mmeasurements\u001B[38;5;241m.\u001B[39mAllCounts)\n\u001B[1;32m    162\u001B[0m     \u001B[38;5;28;01mfor\u001B[39;00m t \u001B[38;5;129;01min\u001B[39;00m tapes\n\u001B[0;32m   (...)\u001B[0m\n\u001B[1;32m    165\u001B[0m     \u001B[38;5;66;03m# Obtaining information about the shape of the Counts measurements is\u001B[39;00m\n\u001B[1;32m    166\u001B[0m     \u001B[38;5;66;03m# not implemeneted and is required for the callback logic\u001B[39;00m\n\u001B[1;32m    167\u001B[0m     \u001B[38;5;28;01mraise\u001B[39;00m \u001B[38;5;167;01mNotImplementedError\u001B[39;00m(\u001B[38;5;124m\"\u001B[39m\u001B[38;5;124mThe JAX-JIT interface doesn\u001B[39m\u001B[38;5;124m'\u001B[39m\u001B[38;5;124mt support qml.counts.\u001B[39m\u001B[38;5;124m\"\u001B[39m)\n",
      "File \u001B[0;32m~/.virtualenvs/qsense/lib/python3.9/site-packages/pennylane/interfaces/jax_jit_tuple.py:43\u001B[0m, in \u001B[0;36m_validate_jax_version\u001B[0;34m()\u001B[0m\n\u001B[1;32m     34\u001B[0m \u001B[38;5;28;01mif\u001B[39;00m semantic_version\u001B[38;5;241m.\u001B[39mmatch(\u001B[38;5;124m\"\u001B[39m\u001B[38;5;124m>0.4.3\u001B[39m\u001B[38;5;124m\"\u001B[39m, jax\u001B[38;5;241m.\u001B[39m__version__):\n\u001B[1;32m     35\u001B[0m     msg \u001B[38;5;241m=\u001B[39m (\n\u001B[1;32m     36\u001B[0m         \u001B[38;5;124m\"\u001B[39m\u001B[38;5;124mThe new JAX JIT interface of PennyLane requires JAX and and JAX lib version below 0.4.4. \u001B[39m\u001B[38;5;124m\"\u001B[39m\n\u001B[1;32m     37\u001B[0m         \u001B[38;5;124m\"\u001B[39m\u001B[38;5;124mPlease downgrade these packages.\u001B[39m\u001B[38;5;124m\"\u001B[39m\n\u001B[0;32m   (...)\u001B[0m\n\u001B[1;32m     41\u001B[0m         \u001B[38;5;124m\"\u001B[39m\u001B[38;5;130;01m\\t\u001B[39;00m\u001B[38;5;124mconda install \u001B[39m\u001B[38;5;124m'\u001B[39m\u001B[38;5;124mjax==0.4.3\u001B[39m\u001B[38;5;124m'\u001B[39m\u001B[38;5;124m \u001B[39m\u001B[38;5;124m'\u001B[39m\u001B[38;5;124mjaxlib==0.4.3\u001B[39m\u001B[38;5;124m'\u001B[39m\u001B[38;5;130;01m\\n\u001B[39;00m\u001B[38;5;130;01m\\n\u001B[39;00m\u001B[38;5;124m\"\u001B[39m\n\u001B[1;32m     42\u001B[0m     )\n\u001B[0;32m---> 43\u001B[0m     \u001B[38;5;28;01mraise\u001B[39;00m InterfaceUnsupportedError(msg)\n",
      "\u001B[0;31mInterfaceUnsupportedError\u001B[0m: The new JAX JIT interface of PennyLane requires JAX and and JAX lib version below 0.4.4. Please downgrade these packages.If you are using pip to manage your packages, you can run the following command:\n\n\tpip install 'jax==0.4.3' 'jaxlib==0.4.3'\n\nIf you are using conda to manage your packages, you can run the following command:\n\n\tconda install 'jax==0.4.3' 'jaxlib==0.4.3'\n\n"
     ]
    }
   ],
   "source": [
    "# %%timeit\n",
    "def test(theta, phi, mu):\n",
    "    return sensor.sample_nonjit(theta, phi, mu, shots=100)\n",
    "\n",
    "test_jit = jax.jit(test)\n",
    "test_jit(theta, phi, mu)"
   ],
   "metadata": {
    "collapsed": false
   }
  },
  {
   "cell_type": "code",
   "execution_count": 23,
   "outputs": [
    {
     "name": "stdout",
     "output_type": "stream",
     "text": [
      "62.4 ms ± 848 µs per loop (mean ± std. dev. of 7 runs, 10 loops each)\n"
     ]
    }
   ],
   "source": [
    "%%timeit\n",
    "sensor.counts(theta, phi, mu, shots=100)"
   ],
   "metadata": {
    "collapsed": false
   }
  },
  {
   "cell_type": "code",
   "execution_count": 24,
   "outputs": [
    {
     "name": "stdout",
     "output_type": "stream",
     "text": [
      "65.9 ms ± 5.31 ms per loop (mean ± std. dev. of 7 runs, 10 loops each)\n"
     ]
    }
   ],
   "source": [
    "%%timeit\n",
    "sensor.counts_nonjit(theta, phi, mu, shots=100)"
   ],
   "metadata": {
    "collapsed": false
   }
  },
  {
   "cell_type": "code",
   "execution_count": 41,
   "outputs": [
    {
     "name": "stdout",
     "output_type": "stream",
     "text": [
      "[11] [100]\n"
     ]
    }
   ],
   "source": [
    "key = jax.random.PRNGKey(time.time_ns())\n",
    "shots = 100\n",
    "def counts(theta, phi, mu, shots, key):\n",
    "    probs = sensor.probs(theta, phi, mu)\n",
    "    # print(probs)\n",
    "    # inds = jax.random.choice(key, len(probs), shape=(shots,), replace=True, p=probs)\n",
    "\n",
    "    inds = jnp.array([jax.random.choice(key, len(probs), p=probs) for i in range(shots)])\n",
    "    unique, counts = jnp.unique(inds, return_counts=True)\n",
    "    return unique, counts\n",
    "\n",
    "counts_jit = jax.jit(counts)\n",
    "unique, counts = counts(theta, phi, mu, shots, key)\n",
    "# unique, counts = count_jit(theta, phi, mu, shots, key)\n",
    "    # bases = list(itertools.product(*n * [[0, 1]]))\n",
    "print(unique, counts)\n",
    "# samples = jnp.array([bases[ind] for ind in inds])"
   ],
   "metadata": {
    "collapsed": false
   }
  }
 ],
 "metadata": {
  "kernelspec": {
   "display_name": "Python 3",
   "language": "python",
   "name": "python3"
  },
  "language_info": {
   "codemirror_mode": {
    "name": "ipython",
    "version": 2
   },
   "file_extension": ".py",
   "mimetype": "text/x-python",
   "name": "python",
   "nbconvert_exporter": "python",
   "pygments_lexer": "ipython2",
   "version": "2.7.6"
  }
 },
 "nbformat": 4,
 "nbformat_minor": 0
}
