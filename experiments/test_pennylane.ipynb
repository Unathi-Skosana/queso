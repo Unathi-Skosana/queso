{
 "cells": [
  {
   "cell_type": "code",
   "execution_count": 15,
   "metadata": {
    "collapsed": true
   },
   "outputs": [],
   "source": [
    "# Added to silence some warnings.\n",
    "from jax.config import config\n",
    "config.update(\"jax_enable_x64\", True)\n",
    "\n",
    "import jax\n",
    "import jax.numpy as jnp\n",
    "import pennylane as qml\n",
    "\n",
    "n = 6\n",
    "k = 2\n",
    "\n",
    "dev = qml.device(\"default.qubit\", wires=n)\n",
    "\n",
    "@qml.qnode(dev, interface=\"jax\")\n",
    "def probe(theta, phi):\n",
    "\n",
    "    # probe state preparation\n",
    "    for j in range(k):\n",
    "        for i in range(n):\n",
    "            qml.RX(theta[i, 3*j], wires=i)\n",
    "            qml.RY(theta[i, 3*j + 1], wires=i)\n",
    "            qml.RZ(theta[i, 3*j + 2], wires=i)\n",
    "        for i in range(0, n-1, 2):\n",
    "            qml.CNOT(wires=[i, i+1])\n",
    "        for i in range(1, n-1, 2):\n",
    "            qml.CNOT(wires=[i, i+1])\n",
    "\n",
    "    # interaction\n",
    "    for i in range(n):\n",
    "        qml.RX(phi, wires=i)\n",
    "\n",
    "    return qml.state()\n",
    "\n",
    "\n",
    "@qml.qnode(dev, interface=\"jax\")\n",
    "def sensor(theta, phi, mu):\n",
    "\n",
    "    # probe state preparation\n",
    "    for j in range(k):\n",
    "        for i in range(n):\n",
    "            qml.RX(theta[i, 3*j], wires=i)\n",
    "            qml.RY(theta[i, 3*j + 1], wires=i)\n",
    "            qml.RZ(theta[i, 3*j + 2], wires=i)\n",
    "        for i in range(0, n-1, 2):\n",
    "            qml.CNOT(wires=[i, i+1])\n",
    "        for i in range(1, n-1, 2):\n",
    "            qml.CNOT(wires=[i, i+1])\n",
    "\n",
    "    # interaction\n",
    "    for i in range(n):\n",
    "        qml.RX(phi, wires=i)\n",
    "\n",
    "    # measurement\n",
    "    for i in range(n):\n",
    "        qml.RX(mu[i, 0], wires=i)\n",
    "        qml.RY(mu[i, 1], wires=i)\n",
    "        qml.RZ(mu[i, 2], wires=i)\n",
    "\n",
    "\n",
    "@qml.qnode(dev, interface=\"jax\")\n",
    "def sensor(theta, phi, mu):\n",
    "\n",
    "    # probe state preparation\n",
    "    for j in range(k):\n",
    "        for i in range(n):\n",
    "            qml.RX(theta[i, 3*j], wires=i)\n",
    "            qml.RY(theta[i, 3*j + 1], wires=i)\n",
    "            qml.RZ(theta[i, 3*j + 2], wires=i)\n",
    "        for i in range(0, n-1, 2):\n",
    "            qml.CNOT(wires=[i, i+1])\n",
    "        for i in range(1, n-1, 2):\n",
    "            qml.CNOT(wires=[i, i+1])\n",
    "\n",
    "    # interaction\n",
    "    for i in range(n):\n",
    "        qml.RX(phi, wires=i)\n",
    "\n",
    "    # measurement\n",
    "    for i in range(n):\n",
    "        qml.RX(mu[i, 0], wires=i)\n",
    "        qml.RY(mu[i, 1], wires=i)\n",
    "        qml.RZ(mu[i, 2], wires=i)\n",
    "\n",
    "    return qml"
   ]
  },
  {
   "cell_type": "code",
   "execution_count": 17,
   "outputs": [
    {
     "name": "stdout",
     "output_type": "stream",
     "text": [
      "[ 0.08254194-0.17372768j -0.12142696-0.31693351j  0.04699802-0.17269352j\n",
      " -0.10776463-0.10816239j -0.22202476-0.18709174j -0.19245916-0.07931027j\n",
      " -0.04786103+0.00631811j -0.0756872 -0.0777465j  -0.05939747+0.03369411j\n",
      " -0.05298905+0.01969888j -0.158381  -0.09177549j -0.09934472-0.01820109j\n",
      " -0.04228061-0.00507773j -0.06411352+0.02955867j -0.01311911-0.06545985j\n",
      " -0.12653213-0.05735766j -0.06085876+0.0107406j  -0.04975247-0.02571916j\n",
      " -0.13774352-0.16944144j -0.11256319-0.0754626j   0.02272343-0.05824919j\n",
      " -0.06047701-0.04045654j  0.05406281-0.09400927j -0.06912738-0.17822378j\n",
      " -0.01664856+0.01573966j -0.0317322 +0.04160776j -0.05560944+0.05326311j\n",
      " -0.01920945+0.04972324j -0.02326593+0.00117269j -0.00267403+0.01992863j\n",
      " -0.02946624+0.00718339j -0.02907542+0.04061723j -0.03411911+0.01232871j\n",
      " -0.05437835+0.06758511j -0.05845088+0.06220948j -0.01545415+0.0662085j\n",
      " -0.04014621+0.03100614j -0.00410277+0.03949367j -0.02453146+0.02020252j\n",
      " -0.02325712+0.05374831j -0.05107998+0.04002754j -0.04268814-0.01052901j\n",
      " -0.19651896-0.12123172j -0.13715546-0.04215339j  0.0184381 -0.0729755j\n",
      " -0.0671009 -0.02797183j  0.02474959-0.11631733j -0.12503921-0.16044263j\n",
      " -0.02504563+0.04737739j -0.02443676+0.03935112j -0.13613102+0.01076093j\n",
      " -0.0672409 +0.03191694j -0.03004153+0.01687148j -0.02767491+0.04703429j\n",
      " -0.03589561-0.03493377j -0.10375414+0.01854543j -0.00862616-0.14228199j\n",
      " -0.19645115-0.16226107j -0.0379854 -0.12568824j -0.11297163-0.0276432j\n",
      " -0.21660119-0.04197083j -0.1572497 +0.0207036j  -0.03188554+0.01948523j\n",
      " -0.08460865-0.02158173j]\n",
      "(64,)\n"
     ]
    }
   ],
   "source": [
    "key = jax.random.PRNGKey(0)\n",
    "phi = jax.random.uniform(key).astype(\"complex\")\n",
    "theta = jax.random.uniform(key, shape=[n, 3*k]).astype(\"complex\")\n",
    "\n",
    "jit_probe = jax.jit(probe)\n",
    "jit_probe_grad = jax.jacrev(probe, argnums=1, holomorphic=True)\n",
    "\n",
    "print(probe(theta, phi))\n",
    "print(jit_probe(theta, phi).shape)\n",
    "# print(jit_probe_grad(theta, phi).shape)\n",
    "\n",
    "# def qfim(phi):\n",
    "#     ket = jit_probe(theta, phi)\n",
    "#     dket = jit_probe_grad(theta, phi)\n",
    "#\n",
    "#     print(ket)\n",
    "#     print(dket)\n",
    "#\n",
    "# qfim(phi)"
   ],
   "metadata": {
    "collapsed": false
   }
  },
  {
   "cell_type": "code",
   "execution_count": 96,
   "outputs": [
    {
     "name": "stdout",
     "output_type": "stream",
     "text": [
      "[ 0.2008803 -0.07330582j  0.12037285-0.00547297j  0.00480808+0.00863459j\n",
      " ... -0.038725  -0.00655311j -0.02425729-0.00051095j\n",
      " -0.02017862+0.00521551j]\n"
     ]
    }
   ],
   "source": [
    "# print(theta.shape)\n",
    "# print(jit_probe(theta, phi))\n",
    "print(jit_probe_grad(theta, phi))"
   ],
   "metadata": {
    "collapsed": false
   }
  },
  {
   "cell_type": "code",
   "execution_count": 81,
   "outputs": [
    {
     "name": "stdout",
     "output_type": "stream",
     "text": [
      "[0.00897753 0.08999533 0.04398529 0.02453177 0.06512392 0.07417258\n",
      " 0.00558877 0.1133059  0.07624569 0.08061748 0.03336137 0.00339381\n",
      " 0.05665476 0.22336002 0.01196069 0.08872509]\n",
      "[-0.02181035 -0.18341337 -0.06686712  0.03509145 -0.03718322  0.02874459\n",
      "  0.02464864  0.06584543  0.14751854 -0.10011345 -0.03290145  0.02451776\n",
      " -0.07024069  0.28668713 -0.01331841 -0.08720549]\n"
     ]
    }
   ],
   "source": [
    "key = jax.random.PRNGKey(0)\n",
    "phi = 0.1\n",
    "theta = jax.random.uniform(key, shape=[n, 3*k])\n",
    "mu = jax.random.uniform(key, shape=[n, 1])\n",
    "\n",
    "jit_sensor = jax.jit(sensor)\n",
    "jit_sensor_grad = jax.jacrev(sensor, argnums=1, holomorphic=False)\n",
    "jit_sensor(theta, phi, mu)\n",
    "jit_sensor_grad(theta, phi, mu)\n",
    "print(jit_sensor(theta, phi, mu))\n",
    "print(jit_sensor_grad(theta, phi, mu))"
   ],
   "metadata": {
    "collapsed": false
   }
  },
  {
   "cell_type": "code",
   "execution_count": null,
   "outputs": [],
   "source": [],
   "metadata": {
    "collapsed": false
   }
  }
 ],
 "metadata": {
  "kernelspec": {
   "display_name": "Python 3",
   "language": "python",
   "name": "python3"
  },
  "language_info": {
   "codemirror_mode": {
    "name": "ipython",
    "version": 2
   },
   "file_extension": ".py",
   "mimetype": "text/x-python",
   "name": "python",
   "nbconvert_exporter": "python",
   "pygments_lexer": "ipython2",
   "version": "2.7.6"
  }
 },
 "nbformat": 4,
 "nbformat_minor": 0
}
