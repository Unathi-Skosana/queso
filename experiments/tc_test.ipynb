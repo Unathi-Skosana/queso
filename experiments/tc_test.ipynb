{
 "cells": [
  {
   "cell_type": "code",
   "execution_count": null,
   "metadata": {
    "collapsed": true
   },
   "outputs": [],
   "source": [
    "import tensorcircuit as tc\n",
    "import jax.numpy as np\n",
    "import optax\n",
    "from tensorcircuit . experimental import qng\n",
    "from functools import partial"
   ]
  },
  {
   "cell_type": "code",
   "execution_count": null,
   "outputs": [],
   "source": [
    "backend = tc.set_backend(\"jax\")\n",
    "tc.set_dtype(\"complex128\")\n",
    "tc.set_contractor(\"auto\")  # “auto”, “greedy”, “branch”, “plain”, “tng”, “custom”"
   ],
   "metadata": {
    "collapsed": false
   }
  },
  {
   "cell_type": "code",
   "execution_count": null,
   "outputs": [],
   "source": [
    "n = 4\n",
    "k = 3\n",
    "#\n",
    "params = backend.implicit_randn([3 * n, k + 1], dtype=\"complex\")\n",
    "\n",
    "def sensor(params, phi):\n",
    "    p = 0.0\n",
    "    dmc = tc.Circuit(n)\n",
    "\n",
    "    params_probe = params[:, 0:-1]\n",
    "    params_measure = params[:, -1:]\n",
    "\n",
    "    # probe state\n",
    "    # for layer in range(k):\n",
    "    #     for i in range(n):\n",
    "    #         dmc.r(i, theta=params_probe[i * 3, k],\n",
    "    #               alpha=params_probe[i])\n",
    "    #     for i in range(1, n):\n",
    "    #         dmc.cnot(i-1, i)\n",
    "    #     for i in range(n):\n",
    "    #         dmc.depolarizing(i, px=p, py=p, pz=p)\n",
    "    dmc.h(0)\n",
    "    for i in range(1, n):\n",
    "        dmc.cnot(0, i)\n",
    "\n",
    "    # interaction\n",
    "    for i in range(n):\n",
    "        dmc.rz(i, theta = phi)\n",
    "\n",
    "    # measurement\n",
    "    # for i in range(n):\n",
    "    #     dmc.rx(i, theta=params_measure[i * 3, 0])\n",
    "    #     dmc.ry(i, theta=params_measure[i * 3 + 1, 0])\n",
    "    #     dmc.rz(i, theta=params_measure[i * 3 + 1, 0])\n",
    "\n",
    "    return dmc.densitymatrix()\n",
    "\n",
    "\n",
    "def cfi(params, phi):\n",
    "\n",
    "    def prob(params, phi):\n",
    "        dm = sensor(params, phi)\n",
    "        return backend.real(backend.diagonal(dm))\n",
    "\n",
    "    p = prob(params, phi)\n",
    "    # dprob = backend.jit(backend.jacrev(lambda phi: prob(params=params, phi=phi)))\n",
    "    dprob = backend.jacrev(lambda phi: prob(params=params, phi=phi))\n",
    "    print(dprob(phi))\n",
    "    print(dprob(phi).squeeze())\n",
    "    fi = backend.sum((dprob(phi).squeeze()) ** 2 / p)\n",
    "    return fi\n",
    "\n",
    "\n",
    "# phi = np.array([1.12314])\n",
    "phi = backend.implicit_randn()\n",
    "print(cfi(params, phi))"
   ],
   "metadata": {
    "collapsed": false
   }
  },
  {
   "cell_type": "code",
   "execution_count": null,
   "outputs": [],
   "source": [
    "n = 4\n",
    "k = 3\n",
    "#\n",
    "params = backend.implicit_randn([3 * n, k + 1])\n",
    "\n",
    "def sensor(params, phi):\n",
    "    p = 0.0\n",
    "    # dmc = tc.Circuit(n)\n",
    "    dmc = tc.DMCircuit(n)\n",
    "\n",
    "    params_probe = params[:, 0:-1]\n",
    "    params_measure = params[:, -1:]\n",
    "\n",
    "    # probe state\n",
    "    for layer in range(k):\n",
    "        for i in range(n):\n",
    "            dmc.r(i,\n",
    "                  theta=params_probe[3*i, k],\n",
    "                  alpha=params_probe[3*i + 1, k],\n",
    "                  phi = params_probe[3*i + 2, k])\n",
    "        for i in range(1, n):\n",
    "            dmc.cnot(0, i)\n",
    "    #     for i in range(n):\n",
    "    #         dmc.depolarizing(i, px=p, py=p, pz=p)\n",
    "\n",
    "    # dmc.h(0)\n",
    "    # for i in range(1, n):\n",
    "    #     dmc.cnot(0, i)\n",
    "\n",
    "    # interaction\n",
    "    for i in range(n):\n",
    "        dmc.rx(i, theta = phi)\n",
    "\n",
    "    # measurement\n",
    "    for i in range(n):\n",
    "        dmc.r(i,\n",
    "              theta=params_measure[3*i, 0],\n",
    "              alpha=params_measure[3*i + 1, 0],\n",
    "              phi = params_measure[3*i + 2, 0])\n",
    "\n",
    "    #     dmc.rx(i, theta=params_measure[i * 3, 0])\n",
    "    #     dmc.ry(i, theta=params_measure[i * 3 + 1, 0])\n",
    "    #     dmc.rz(i, theta=params_measure[i * 3 + 1, 0])\n",
    "\n",
    "    return dmc.densitymatrix()\n",
    "    # return dmc.wavefunction()\n",
    "\n",
    "\n",
    "def cfi(params, phi):\n",
    "\n",
    "    def prob(params, phi):\n",
    "        dm = sensor(params, phi)\n",
    "        return backend.real(backend.diagonal(dm))\n",
    "        # return backend.real(dm)\n",
    "\n",
    "    p = prob(params, phi)\n",
    "    # dprob = backend.jit(backend.jacrev(lambda phi: prob(params=params, phi=phi)))\n",
    "    dprob = backend.jacrev(lambda phi: prob(params=params, phi=phi))\n",
    "    # print(dprob(phi))\n",
    "    # print(dprob(phi).squeeze())\n",
    "    fi = backend.sum((dprob(phi).squeeze()) ** 2 / p)\n",
    "    return fi\n",
    "\n",
    "print(backend.sum(backend.abs(sensor(params, phi))**2))\n",
    "# phi = np.array([1.12314])\n",
    "# phi = backend.implicit_randn()\n",
    "# print(cfi(params, phi))"
   ],
   "metadata": {
    "collapsed": false
   }
  },
  {
   "cell_type": "code",
   "execution_count": null,
   "outputs": [],
   "source": [
    "cfi_val_grad_jit = backend.jit(backend.value_and_grad(lambda params: -cfi(params=params, _phi=phi)))\n",
    "val, grad = cfi_val_grad_jit(params)"
   ],
   "metadata": {
    "collapsed": false
   }
  },
  {
   "cell_type": "code",
   "execution_count": null,
   "outputs": [],
   "source": [
    "opt = tc.backend.optimizer(optax.adagrad(learning_rate=0.95))\n"
   ],
   "metadata": {
    "collapsed": false
   }
  },
  {
   "cell_type": "code",
   "execution_count": null,
   "outputs": [],
   "source": [
    "params = backend.implicit_randn([3 * n, k + 1])\n",
    "\n",
    "for i in range(250):\n",
    "    val, grad = cfi_val_grad_jit(params)\n",
    "    params = opt.update(grad, params)\n",
    "    print(f\"Step {i} | CFI {val}\")\n",
    "    # print(params)"
   ],
   "metadata": {
    "collapsed": false
   }
  },
  {
   "cell_type": "code",
   "execution_count": null,
   "outputs": [],
   "source": [
    "# %timeit noisy(4)"
   ],
   "metadata": {
    "collapsed": false
   }
  },
  {
   "cell_type": "code",
   "execution_count": null,
   "outputs": [],
   "source": [
    "n = 6\n",
    "k = 4\n",
    "#\n",
    "params = backend.implicit_randn([3 * n, k]).astype(\"complex\")\n",
    "\n",
    "\n",
    "def sensor(params, phi):\n",
    "    dmc = tc.Circuit(n)\n",
    "\n",
    "    for i in range(k):\n",
    "        for j in range(n):\n",
    "            dmc.r(j, theta=params[3*j, i], alpha=params[3*j + 1, i], phi=params[3*j + 2, i])\n",
    "\n",
    "        for j in range(1, n):\n",
    "            dmc.cnot(j-1, j)\n",
    "\n",
    "    # interaction\n",
    "    for j in range(n):\n",
    "        dmc.rz(j, theta = phi)\n",
    "    return dmc\n",
    "\n",
    "phi = np.array([1.12314]).astype(\"complex\")\n",
    "params = backend.implicit_randn([3 * n, k])\n",
    "\n",
    "dmc = sensor(params, phi)\n",
    "dmc.draw(output=\"text\")\n",
    "\n",
    "\n",
    "def qfi(_params, phi):\n",
    "    psi = sensor(_params, phi).state()[:, None]\n",
    "    f_dpsi_phi = backend.jacrev(lambda phi: sensor(params=_params, phi=phi).state())\n",
    "    d_psi = f_dpsi_phi(phi)\n",
    "    fi = 4 * backend.real((backend.conj(d_psi.T) @ d_psi) + (backend.conj(d_psi.T) @ psi)**2)\n",
    "    return fi[0, 0]\n"
   ],
   "metadata": {
    "collapsed": false
   }
  },
  {
   "cell_type": "code",
   "execution_count": null,
   "outputs": [],
   "source": [
    "dmc.draw(output=\"text\")"
   ],
   "metadata": {
    "collapsed": false
   }
  },
  {
   "cell_type": "code",
   "execution_count": null,
   "outputs": [],
   "source": [
    "qfi_val_grad_jit = backend.jit(backend.value_and_grad(lambda params: -qfi(_params=params, phi=phi)))\n",
    "val, grad = qfi_val_grad_jit(params)\n",
    "print(val, grad)"
   ],
   "metadata": {
    "collapsed": false
   }
  },
  {
   "cell_type": "code",
   "execution_count": null,
   "outputs": [],
   "source": [
    "opt = tc.backend.optimizer(optax.adagrad(learning_rate=0.35))\n",
    "\n",
    "params = backend.implicit_randn([3 * n, k])\n",
    "\n",
    "for i in range(250):\n",
    "    val, grad = qfi_val_grad_jit(params)\n",
    "    # print(grad)\n",
    "    params = opt.update(grad, params)\n",
    "    print(f\"Step {i} | QFI {val}\")\n",
    "    # print(params)"
   ],
   "metadata": {
    "collapsed": false
   }
  },
  {
   "cell_type": "code",
   "execution_count": null,
   "outputs": [],
   "source": [],
   "metadata": {
    "collapsed": false
   }
  },
  {
   "cell_type": "markdown",
   "source": [
    "# CFI"
   ],
   "metadata": {
    "collapsed": false
   }
  },
  {
   "cell_type": "code",
   "execution_count": null,
   "outputs": [],
   "source": [
    "n = 6\n",
    "k = 4\n",
    "\n",
    "def sensor(params, phi):\n",
    "    dmc = tc.Circuit(n)\n",
    "\n",
    "    for i in range(k):\n",
    "        for j in range(n):\n",
    "            dmc.r(j, theta=params[3*j, i], alpha=params[3*j + 1, i], phi=params[3*j + 2, i])\n",
    "\n",
    "        for j in range(1, n):\n",
    "            dmc.cnot(j-1, j)\n",
    "\n",
    "    for j in range(n):\n",
    "        dmc.r(j, theta=params[3*j, i], alpha=params[3*j + 1, i], phi=params[3*j + 2, i])\n",
    "\n",
    "    # interaction\n",
    "    for j in range(n):\n",
    "        dmc.rz(j, theta = phi)\n",
    "\n",
    "    # measurement\n",
    "    for j in range(n):\n",
    "        dmc.u(j, theta = params[3*j, -1], phi=params[3*j + 1, -1])\n",
    "\n",
    "    return dmc\n",
    "\n",
    "\n",
    "phi = np.array([1.12314])\n",
    "params = backend.implicit_randn([3 * n, k+1])\n",
    "\n",
    "dmc = sensor(params, phi)\n",
    "\n",
    "def cfi(_params, _phi):\n",
    "    def probs(_params, _phi):\n",
    "        return backend.abs(sensor(_params, _phi).state())**2\n",
    "    pr = probs(_params, _phi)\n",
    "    dpr_phi = backend.jacrev(lambda _phi: probs(_params=_params, _phi=_phi))\n",
    "    d_pr = dpr_phi(phi).squeeze()\n",
    "    fim = backend.sum(d_pr * d_pr / pr)\n",
    "    return fim\n",
    "\n",
    "print(cfi(params, phi))\n"
   ],
   "metadata": {
    "collapsed": false
   }
  },
  {
   "cell_type": "code",
   "execution_count": null,
   "outputs": [],
   "source": [
    "dmc.draw(output=\"text\")"
   ],
   "metadata": {
    "collapsed": false
   }
  },
  {
   "cell_type": "code",
   "execution_count": null,
   "outputs": [],
   "source": [
    "cfi_val_grad_jit = backend.jit(backend.value_and_grad(lambda params: -cfi(_params=params, _phi=phi)))\n",
    "val, grad = cfi_val_grad_jit(params)\n",
    "print(val, grad)"
   ],
   "metadata": {
    "collapsed": false
   }
  },
  {
   "cell_type": "code",
   "execution_count": null,
   "outputs": [],
   "source": [
    "opt = tc.backend.optimizer(optax.adagrad(learning_rate=0.2))\n",
    "params = backend.implicit_randn([3 * n, k+1])\n",
    "\n",
    "for i in range(250):\n",
    "    val, grad = cfi_val_grad_jit(params)\n",
    "    # print(grad)\n",
    "    params = opt.update(grad, params)\n",
    "    print(f\"Step {i} | CFI {val}\")\n",
    "    # print(params)"
   ],
   "metadata": {
    "collapsed": false
   }
  },
  {
   "cell_type": "code",
   "execution_count": null,
   "outputs": [],
   "source": [],
   "metadata": {
    "collapsed": false
   }
  },
  {
   "cell_type": "markdown",
   "source": [
    "# Mixed CFI"
   ],
   "metadata": {
    "collapsed": false
   }
  },
  {
   "cell_type": "code",
   "execution_count": null,
   "outputs": [],
   "source": [
    "n = 4\n",
    "k = 4\n",
    "\n",
    "\n",
    "def sensor(params, phi, gamma):\n",
    "    dmc = tc.DMCircuit(n)\n",
    "\n",
    "    for i in range(k):\n",
    "        for j in range(n):\n",
    "            dmc.r(j, theta=params[3 * j, i], alpha=params[3 * j + 1, i], phi=params[3 * j + 2, i])\n",
    "\n",
    "        for j in range(1, n):\n",
    "            dmc.cnot(j - 1, j)\n",
    "\n",
    "        for j in range(n):\n",
    "            dmc.phasedamping(j, gamma=gamma[0])\n",
    "\n",
    "    for j in range(n):\n",
    "        dmc.r(j, theta=params[3 * j, i], alpha=params[3 * j + 1, i], phi=params[3 * j + 2, i])\n",
    "\n",
    "    # interaction\n",
    "    for j in range(n):\n",
    "        dmc.rz(j, theta=phi[0])\n",
    "\n",
    "    # measurement\n",
    "    for j in range(n):\n",
    "        dmc.u(j, theta=params[3 * j, -1], phi=params[3 * j + 1, -1])\n",
    "\n",
    "    return dmc\n",
    "\n",
    "\n",
    "phi = np.array([1.12314])\n",
    "gamma = np.array([0.0])\n",
    "params = backend.implicit_randn([3 * n, k + 1])\n",
    "\n",
    "dmc = sensor(params, phi, gamma)\n",
    "\n",
    "\n",
    "def cfi(_params, _phi, _gamma):\n",
    "    def probs(_params, _phi, _gamma):\n",
    "        return backend.abs(backend.diagonal(sensor(_params, _phi, _gamma).densitymatrix()))\n",
    "\n",
    "    pr = probs(_params, _phi, _gamma)\n",
    "    dpr_phi = backend.jacrev(lambda _phi: probs(_params=_params, _phi=_phi, _gamma=_gamma))\n",
    "    d_pr = dpr_phi(phi).squeeze()\n",
    "    fim = backend.sum(d_pr * d_pr / pr)\n",
    "    return fim\n",
    "\n",
    "print(cfi(params, phi, gamma))\n",
    "\n",
    "def neg_cfi(_params, _phi, _gamma):\n",
    "    return -cfi(_params, _phi, _gamma)"
   ],
   "metadata": {
    "collapsed": false
   }
  },
  {
   "cell_type": "code",
   "execution_count": null,
   "outputs": [],
   "source": [
    "dmc.draw(output=\"text\")"
   ],
   "metadata": {
    "collapsed": false
   }
  },
  {
   "cell_type": "code",
   "execution_count": null,
   "outputs": [],
   "source": [
    "cfi_val_grad_jit = backend.jit(backend.value_and_grad(lambda params: -cfi(_params=params, _phi=phi)))\n",
    "\n",
    "# val, grad = cfi_val_grad_jit(params)\n",
    "# print(val, grad)"
   ],
   "metadata": {
    "collapsed": false
   }
  },
  {
   "cell_type": "code",
   "execution_count": null,
   "outputs": [],
   "source": [
    "opt = tc.backend.optimizer(optax.adagrad(learning_rate=0.2))\n",
    "params = backend.implicit_randn([3 * n, k + 1])\n",
    "\n",
    "for i in range(250):\n",
    "    val, grad = cfi_val_grad_jit(params)\n",
    "    # print(grad)\n",
    "    params = opt.update(grad, params)\n",
    "    print(f\"Step {i} | CFI {val}\")\n",
    "    # print(params)"
   ],
   "metadata": {
    "collapsed": false
   }
  },
  {
   "cell_type": "code",
   "execution_count": null,
   "outputs": [],
   "source": [
    "def optimal_information_under_dephasing(gamma):\n",
    "\n",
    "\n",
    "\n",
    "for gamma in np.linspace(0, 1, 10):\n"
   ],
   "metadata": {
    "collapsed": false
   }
  },
  {
   "cell_type": "code",
   "execution_count": null,
   "outputs": [],
   "source": [
    "import jax\n",
    "\n",
    "def func(a, b):\n",
    "    return a*a*b\n",
    "\n",
    "\n",
    "jax.jacrev(func, argnums=(0,))(0.1, 1.0)\n"
   ],
   "metadata": {
    "collapsed": false
   }
  },
  {
   "cell_type": "code",
   "execution_count": null,
   "outputs": [],
   "source": [
    "params = backend.implicit_randn([3])\n",
    "def func(a, b, c):\n",
    "    dmc = tc.Circuit(1)\n",
    "    dmc.r(0, theta=a, alpha=b, phi=c)\n",
    "    return dmc.state()\n",
    "df = backend.jacrev(func, [0])\n",
    "print(df(1.0, 1.0, 1.0))"
   ],
   "metadata": {
    "collapsed": false
   }
  },
  {
   "cell_type": "code",
   "execution_count": null,
   "outputs": [],
   "source": [],
   "metadata": {
    "collapsed": false
   }
  }
 ],
 "metadata": {
  "kernelspec": {
   "display_name": "Python 3",
   "language": "python",
   "name": "python3"
  },
  "language_info": {
   "codemirror_mode": {
    "name": "ipython",
    "version": 2
   },
   "file_extension": ".py",
   "mimetype": "text/x-python",
   "name": "python",
   "nbconvert_exporter": "python",
   "pygments_lexer": "ipython2",
   "version": "2.7.6"
  }
 },
 "nbformat": 4,
 "nbformat_minor": 0
}
