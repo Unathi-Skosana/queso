{
 "cells": [
  {
   "cell_type": "code",
   "execution_count": 1,
   "metadata": {
    "collapsed": true
   },
   "outputs": [],
   "source": [
    "%load_ext autoreload\n",
    "%autoreload 2"
   ]
  },
  {
   "cell_type": "code",
   "execution_count": 23,
   "outputs": [],
   "source": [
    "import itertools\n",
    "import tensorcircuit as tc\n",
    "import jax.numpy as jnp\n",
    "import argparse\n",
    "import jax\n",
    "from jax import random\n",
    "import tensorflow as tf\n",
    "import tqdm\n",
    "import seaborn as sns\n",
    "import numpy as np\n",
    "import optax\n",
    "import pandas as pd\n",
    "import matplotlib.pyplot as plt\n",
    "import time\n",
    "import sys\n",
    "\n",
    "sys.path.append(\".\")\n",
    "\n",
    "from queso.utils.io import IO"
   ],
   "metadata": {
    "collapsed": false
   }
  },
  {
   "cell_type": "code",
   "execution_count": 55,
   "outputs": [],
   "source": [
    "n = 14\n",
    "k = 1\n",
    "seed = 0\n",
    "\n",
    "key = random.PRNGKey(seed)\n",
    "# backend = tc.set_backend(\"jax\")\n",
    "backend = tc.set_backend(\"tensorflow\")\n",
    "\n",
    "def circuit(params):\n",
    "    c = tc.Circuit(n)\n",
    "    phi = np.array([0.0])\n",
    "    for i in range(k):\n",
    "        for j in range(n):\n",
    "            c.r(j, theta=params[3 * j, i], alpha=params[3 * j + 1, i], phi=params[3 * j + 2, i])\n",
    "\n",
    "        for j in range(1, n, 2):\n",
    "            c.cnot(j - 1, j)\n",
    "\n",
    "        for j in range(2, n, 2):\n",
    "            c.cnot(j - 1, j)\n",
    "\n",
    "    # interaction\n",
    "    for j in range(n):\n",
    "        c.rz(j, theta=phi[0])\n",
    "    return c\n",
    "\n",
    "def forward(params):\n",
    "    c = circuit(params)\n",
    "    return c.probability()"
   ],
   "metadata": {
    "collapsed": false
   }
  },
  {
   "cell_type": "code",
   "execution_count": 52,
   "outputs": [
    {
     "name": "stdout",
     "output_type": "stream",
     "text": [
      "76.5 ms ± 1.27 ms per loop (mean ± std. dev. of 7 runs, 10 loops each)\n",
      "1.55 ms ± 97.1 µs per loop (mean ± std. dev. of 7 runs, 1 loop each)\n"
     ]
    }
   ],
   "source": [
    "params = random.uniform(key, ([3 * n, k])) if tc.backend.name == \"jax\" else tf.random.normal(shape=[3 * n, k], stddev=0.1)\n",
    "\n",
    "%timeit forward(params)\n",
    "foward_jit = tc.backend.jit(forward)\n",
    "%timeit forward_jit(params)"
   ],
   "metadata": {
    "collapsed": false
   }
  },
  {
   "cell_type": "code",
   "execution_count": 53,
   "outputs": [
    {
     "name": "stdout",
     "output_type": "stream",
     "text": [
      "10.9 s ± 361 ms per loop (mean ± std. dev. of 7 runs, 1 loop each)\n"
     ]
    }
   ],
   "source": [
    "reverse = tc.backend.jacrev(forward)\n",
    "reverse_jit = tc.backend.jit(reverse)\n",
    "# %timeit reverse(params)\n",
    "%timeit reverse_jit(params)\n",
    "# print(p.shape, dp.shape)"
   ],
   "metadata": {
    "collapsed": false
   }
  },
  {
   "cell_type": "code",
   "execution_count": 56,
   "outputs": [
    {
     "ename": "AttributeError",
     "evalue": "'Circuit' object has no attribute 'shape'",
     "output_type": "error",
     "traceback": [
      "\u001B[0;31m---------------------------------------------------------------------------\u001B[0m",
      "\u001B[0;31mAttributeError\u001B[0m                            Traceback (most recent call last)",
      "Cell \u001B[0;32mIn[56], line 2\u001B[0m\n\u001B[1;32m      1\u001B[0m c \u001B[38;5;241m=\u001B[39m circuit(params)\n\u001B[0;32m----> 2\u001B[0m rho \u001B[38;5;241m=\u001B[39m \u001B[43mtc\u001B[49m\u001B[38;5;241;43m.\u001B[39;49m\u001B[43mquantum\u001B[49m\u001B[38;5;241;43m.\u001B[39;49m\u001B[43mreduced_density_matrix\u001B[49m\u001B[43m(\u001B[49m\u001B[43mc\u001B[49m\u001B[43m,\u001B[49m\u001B[43m \u001B[49m\u001B[43mcut\u001B[49m\u001B[38;5;241;43m=\u001B[39;49m\u001B[43m[\u001B[49m\u001B[38;5;241;43m0\u001B[39;49m\u001B[43m,\u001B[49m\u001B[43m \u001B[49m\u001B[38;5;241;43m1\u001B[39;49m\u001B[43m,\u001B[49m\u001B[43m \u001B[49m\u001B[38;5;241;43m2\u001B[39;49m\u001B[43m]\u001B[49m\u001B[43m)\u001B[49m\n",
      "File \u001B[0;32m~/.virtualenvs/qsense/lib/python3.9/site-packages/tensorcircuit/quantum.py:1529\u001B[0m, in \u001B[0;36mreduced_density_matrix\u001B[0;34m(state, cut, p)\u001B[0m\n\u001B[1;32m   1525\u001B[0m         \u001B[38;5;28;01mraise\u001B[39;00m \u001B[38;5;167;01mNotImplementedError\u001B[39;00m(\n\u001B[1;32m   1526\u001B[0m             \u001B[38;5;124m\"\u001B[39m\u001B[38;5;124mp arguments is not supported when state is a `QuOperator`\u001B[39m\u001B[38;5;124m\"\u001B[39m\n\u001B[1;32m   1527\u001B[0m         )\n\u001B[1;32m   1528\u001B[0m     \u001B[38;5;28;01mreturn\u001B[39;00m state\u001B[38;5;241m.\u001B[39mpartial_trace(traceout)\n\u001B[0;32m-> 1529\u001B[0m \u001B[38;5;28;01mif\u001B[39;00m \u001B[38;5;28mlen\u001B[39m(\u001B[43mstate\u001B[49m\u001B[38;5;241;43m.\u001B[39;49m\u001B[43mshape\u001B[49m) \u001B[38;5;241m==\u001B[39m \u001B[38;5;241m2\u001B[39m \u001B[38;5;129;01mand\u001B[39;00m state\u001B[38;5;241m.\u001B[39mshape[\u001B[38;5;241m0\u001B[39m] \u001B[38;5;241m==\u001B[39m state\u001B[38;5;241m.\u001B[39mshape[\u001B[38;5;241m1\u001B[39m]:\n\u001B[1;32m   1530\u001B[0m     \u001B[38;5;66;03m# density operator\u001B[39;00m\n\u001B[1;32m   1531\u001B[0m     freedomexp \u001B[38;5;241m=\u001B[39m backend\u001B[38;5;241m.\u001B[39msizen(state)\n\u001B[1;32m   1532\u001B[0m     \u001B[38;5;66;03m# traceout = sorted(traceout)[::-1]\u001B[39;00m\n",
      "\u001B[0;31mAttributeError\u001B[0m: 'Circuit' object has no attribute 'shape'"
     ]
    }
   ],
   "source": [
    "c = circuit(params)\n",
    "rho = tc.quantum.reduced_density_matrix(c, cut=[0, 1, 2])"
   ],
   "metadata": {
    "collapsed": false
   }
  },
  {
   "cell_type": "code",
   "execution_count": 28,
   "outputs": [
    {
     "name": "stdout",
     "output_type": "stream",
     "text": [
      "tensorflow\n"
     ]
    }
   ],
   "source": [
    "print(tc.backend.name)"
   ],
   "metadata": {
    "collapsed": false
   }
  },
  {
   "cell_type": "code",
   "execution_count": null,
   "outputs": [],
   "source": [],
   "metadata": {
    "collapsed": false
   }
  }
 ],
 "metadata": {
  "kernelspec": {
   "display_name": "Python 3",
   "language": "python",
   "name": "python3"
  },
  "language_info": {
   "codemirror_mode": {
    "name": "ipython",
    "version": 2
   },
   "file_extension": ".py",
   "mimetype": "text/x-python",
   "name": "python",
   "nbconvert_exporter": "python",
   "pygments_lexer": "ipython2",
   "version": "2.7.6"
  }
 },
 "nbformat": 4,
 "nbformat_minor": 0
}
