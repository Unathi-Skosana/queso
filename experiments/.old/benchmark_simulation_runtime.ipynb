{
 "cells": [
  {
   "cell_type": "code",
   "execution_count": 40,
   "metadata": {
    "collapsed": true
   },
   "outputs": [
    {
     "name": "stdout",
     "output_type": "stream",
     "text": [
      "The autoreload extension is already loaded. To reload it, use:\n",
      "  %reload_ext autoreload\n"
     ]
    }
   ],
   "source": [
    "%load_ext autoreload\n",
    "%autoreload 2\n",
    "\n",
    "import pytest\n",
    "import uuid\n",
    "import jax\n",
    "import timeit\n",
    "\n",
    "import queso\n",
    "from queso.sensor.layers import brick_wall_probe\n",
    "from queso.sensor.blocks import Interaction, Measurement, Sensor\n",
    "from queso.sensor.unitaries import Phase, U3"
   ]
  },
  {
   "cell_type": "code",
   "execution_count": 41,
   "outputs": [],
   "source": [
    "def test_calculate_state(method):\n",
    "    n_layers = 2\n",
    "    n = 7\n",
    "\n",
    "    probe = brick_wall_probe(n=n, d=2, n_layers=n_layers)\n",
    "\n",
    "    interaction = Interaction(n=n)\n",
    "    interaction.add([Phase(\"phi\") for _ in range(n)])\n",
    "\n",
    "    measurement = Measurement(n=n)\n",
    "    measurement.add([U3(str(uuid.uuid4())) for _ in range(n)])\n",
    "\n",
    "    sensor = Sensor(probe, interaction, measurement)\n",
    "    params = sensor.initialize(seed=0)\n",
    "\n",
    "    state = sensor(params, method=method)\n",
    "    return state"
   ],
   "metadata": {
    "collapsed": false
   }
  },
  {
   "cell_type": "code",
   "execution_count": 42,
   "outputs": [
    {
     "name": "stdout",
     "output_type": "stream",
     "text": [
      "Method is  lazy\n",
      "Method is  lazy\n",
      "Method is  lazy\n",
      "[[ 1.13839229e-01-0.05372268j]\n",
      " [ 3.82309422e-03-0.06796208j]\n",
      " [-7.96621834e-02-0.00819673j]\n",
      " [-6.53886707e-02-0.03274056j]\n",
      " [ 4.12519845e-02-0.04916772j]\n",
      " [-8.57907006e-03+0.04368835j]\n",
      " [-2.46804809e-02-0.03108166j]\n",
      " [-3.14261633e-02+0.04548928j]\n",
      " [ 6.58940732e-02-0.01660736j]\n",
      " [-4.83865092e-02-0.02643988j]\n",
      " [ 5.79298311e-03+0.00044945j]\n",
      " [-5.66637028e-02-0.05757872j]\n",
      " [-5.58172744e-02-0.0115002j ]\n",
      " [-2.73298038e-03+0.03390252j]\n",
      " [ 2.18463643e-03+0.01168996j]\n",
      " [ 1.17175833e-02+0.0343208j ]\n",
      " [ 9.04179146e-03-0.06109245j]\n",
      " [-1.83065177e-02-0.02604021j]\n",
      " [-2.52020269e-02+0.02895296j]\n",
      " [-2.44425618e-02+0.01153293j]\n",
      " [ 1.26541857e-02+0.00732654j]\n",
      " [ 9.92796216e-03-0.00300115j]\n",
      " [-2.39987170e-03-0.00815729j]\n",
      " [ 1.05315560e-02-0.02182952j]\n",
      " [ 9.60094778e-03-0.05188477j]\n",
      " [-6.35691751e-03+0.04091993j]\n",
      " [-1.71496428e-02-0.02068149j]\n",
      " [-3.38562458e-02+0.04214357j]\n",
      " [-6.56235031e-02-0.00991309j]\n",
      " [-9.88618025e-03+0.03918416j]\n",
      " [ 2.64552262e-02+0.02337984j]\n",
      " [ 1.69211149e-02+0.03950135j]\n",
      " [ 3.01640208e-02+0.00091698j]\n",
      " [-1.25270639e-02-0.00552687j]\n",
      " [-2.39164267e-03+0.00569192j]\n",
      " [-1.94514982e-02-0.01539043j]\n",
      " [-8.05381413e-02-0.00158285j]\n",
      " [ 4.82305671e-02+0.02536639j]\n",
      " [-1.28749280e-02+0.02294843j]\n",
      " [ 7.48243045e-02+0.06526555j]\n",
      " [ 8.05962333e-04+0.02616916j]\n",
      " [-2.69524525e-02-0.00589849j]\n",
      " [ 2.84240230e-02+0.00745472j]\n",
      " [ 5.76684455e-03-0.00605878j]\n",
      " [ 3.21665982e-02-0.09141257j]\n",
      " [-3.08715377e-02-0.04201996j]\n",
      " [-4.60002543e-02+0.03577031j]\n",
      " [-3.61386179e-02+0.00848222j]\n",
      " [ 8.12049101e-02+0.00770851j]\n",
      " [ 2.23584618e-02-0.04185478j]\n",
      " [-3.60383450e-02-0.0291514j ]\n",
      " [-2.04068914e-02-0.03998869j]\n",
      " [ 6.95991074e-02-0.01574606j]\n",
      " [-3.69248408e-02-0.00921893j]\n",
      " [-3.70137159e-03-0.01981106j]\n",
      " [-4.50601848e-02-0.02395082j]\n",
      " [ 3.37647366e-02-0.03305481j]\n",
      " [ 5.67737710e-03-0.01676477j]\n",
      " [-2.89087221e-02-0.00195319j]\n",
      " [-2.79290834e-02-0.01630378j]\n",
      " [-2.61182662e-02+0.06593173j]\n",
      " [ 2.49643393e-02+0.03241384j]\n",
      " [ 2.96521355e-02-0.02536617j]\n",
      " [ 3.46034650e-02-0.00627541j]\n",
      " [ 2.17293897e-02+0.08291378j]\n",
      " [ 5.80598595e-02+0.00257061j]\n",
      " [ 7.20989621e-03-0.04505215j]\n",
      " [ 3.53087806e-02-0.02571583j]\n",
      " [ 6.66060528e-02+0.05634426j]\n",
      " [ 1.25391602e-04-0.05069866j]\n",
      " [ 6.09846253e-03-0.0156569j ]\n",
      " [ 3.58286070e-03-0.05676928j]\n",
      " [ 9.16353731e-02+0.0040876j ]\n",
      " [ 1.36653850e-03+0.0063483j ]\n",
      " [-8.53312989e-03-0.05084282j]\n",
      " [-4.58970668e-02-0.0615043j ]\n",
      " [-1.23751375e-01+0.06367027j]\n",
      " [-3.60518815e-03+0.06611287j]\n",
      " [ 6.67682597e-02+0.01375262j]\n",
      " [ 5.72282638e-02+0.03482646j]\n",
      " [ 1.89874935e-01-0.10634097j]\n",
      " [ 7.61104488e-03-0.08805641j]\n",
      " [-9.57138744e-02-0.02334837j]\n",
      " [-1.12749539e-01-0.03626775j]\n",
      " [ 1.06804823e-01+0.10215743j]\n",
      " [ 8.52465340e-03-0.07499881j]\n",
      " [ 1.65726288e-02-0.01988256j]\n",
      " [ 6.30707823e-02-0.14246449j]\n",
      " [ 1.33722507e-01-0.0766548j ]\n",
      " [-3.42381705e-02+0.02914884j]\n",
      " [-2.80672279e-02-0.06092369j]\n",
      " [-9.07616396e-02-0.04606943j]\n",
      " [-2.71524307e-01+0.0085412j ]\n",
      " [-5.16386396e-02+0.13511468j]\n",
      " [ 1.16660542e-01+0.07482326j]\n",
      " [ 7.96487355e-02+0.0992756j ]\n",
      " [ 1.13866947e-01-0.07210066j]\n",
      " [-4.56647213e-02-0.06991318j]\n",
      " [-6.83037518e-02+0.0169441j ]\n",
      " [-9.73778826e-02-0.03086471j]\n",
      " [-4.86747189e-03-0.12630104j]\n",
      " [ 1.22495987e-02+0.07410668j]\n",
      " [-6.99475782e-02-0.00854714j]\n",
      " [-2.57680553e-02+0.13334453j]\n",
      " [ 9.04636457e-03+0.00060002j]\n",
      " [-3.24267581e-02-0.07279044j]\n",
      " [ 7.98797356e-03+0.05953901j]\n",
      " [-5.98788411e-03-0.06744932j]\n",
      " [ 2.01422982e-03+0.06350601j]\n",
      " [ 6.49881672e-02-0.00770943j]\n",
      " [-1.82781444e-02-0.03334428j]\n",
      " [ 5.13150233e-02-0.02734268j]\n",
      " [ 2.22486015e-01+0.16989815j]\n",
      " [ 1.45074046e-01-0.06390404j]\n",
      " [-6.70519482e-02-0.17800688j]\n",
      " [ 8.23470084e-03-0.16032113j]\n",
      " [ 1.96848900e-01+0.00111306j]\n",
      " [-1.55929204e-01+0.00830474j]\n",
      " [ 4.54394220e-02-0.08413607j]\n",
      " [-1.92893560e-01-0.05862023j]\n",
      " [ 7.91459375e-02+0.073681j  ]\n",
      " [ 2.55609309e-02-0.13346896j]\n",
      " [-2.63362697e-02+0.02549721j]\n",
      " [ 4.28772343e-02-0.14830698j]\n",
      " [ 3.69991797e-02-0.00581836j]\n",
      " [-1.62089840e-02+0.02298161j]\n",
      " [-7.01624412e-03-0.05308274j]\n",
      " [-3.87540086e-02-0.00797013j]]\n"
     ]
    }
   ],
   "source": [
    "print(test_calculate_state(method=\"lazy\"))"
   ],
   "metadata": {
    "collapsed": false
   }
  },
  {
   "cell_type": "code",
   "execution_count": 43,
   "outputs": [
    {
     "name": "stdout",
     "output_type": "stream",
     "text": [
      "Method is  lazy\n",
      "Method is  lazy\n",
      "Method is  lazy\n",
      "Method is  lazy\n",
      "Method is  lazy\n",
      "Method is  lazy\n",
      "Method is  lazy\n",
      "Method is  lazy\n",
      "Method is  lazy\n",
      "Method is  lazy\n",
      "Method is  lazy\n",
      "Method is  lazy\n",
      "Method is  lazy\n",
      "Method is  lazy\n",
      "Method is  lazy\n",
      "Method is  lazy\n",
      "Method is  lazy\n",
      "Method is  lazy\n",
      "Method is  lazy\n",
      "Method is  lazy\n",
      "Method is  lazy\n",
      "Method is  lazy\n",
      "Method is  lazy\n",
      "Method is  lazy\n",
      "375 ms ± 14.2 ms per loop (mean ± std. dev. of 7 runs, 1 loop each)\n"
     ]
    }
   ],
   "source": [
    "%timeit test_calculate_state(method=\"lazy\")"
   ],
   "metadata": {
    "collapsed": false
   }
  },
  {
   "cell_type": "code",
   "execution_count": 44,
   "outputs": [
    {
     "name": "stdout",
     "output_type": "stream",
     "text": [
      "Method is  greedy\n",
      "Method is  greedy\n",
      "Method is  greedy\n",
      "Method is  greedy\n",
      "Method is  greedy\n",
      "Method is  greedy\n",
      "Method is  greedy\n",
      "Method is  greedy\n",
      "Method is  greedy\n",
      "Method is  greedy\n",
      "Method is  greedy\n",
      "Method is  greedy\n",
      "Method is  greedy\n",
      "Method is  greedy\n",
      "Method is  greedy\n",
      "Method is  greedy\n",
      "Method is  greedy\n",
      "Method is  greedy\n",
      "Method is  greedy\n",
      "Method is  greedy\n",
      "Method is  greedy\n",
      "Method is  greedy\n",
      "Method is  greedy\n",
      "Method is  greedy\n",
      "351 ms ± 3.31 ms per loop (mean ± std. dev. of 7 runs, 1 loop each)\n"
     ]
    }
   ],
   "source": [
    "%timeit test_calculate_state(method=\"greedy\")"
   ],
   "metadata": {
    "collapsed": false
   }
  },
  {
   "cell_type": "code",
   "execution_count": null,
   "outputs": [],
   "source": [],
   "metadata": {
    "collapsed": false
   }
  }
 ],
 "metadata": {
  "kernelspec": {
   "display_name": "Python 3",
   "language": "python",
   "name": "python3"
  },
  "language_info": {
   "codemirror_mode": {
    "name": "ipython",
    "version": 2
   },
   "file_extension": ".py",
   "mimetype": "text/x-python",
   "name": "python",
   "nbconvert_exporter": "python",
   "pygments_lexer": "ipython2",
   "version": "2.7.6"
  }
 },
 "nbformat": 4,
 "nbformat_minor": 0
}
