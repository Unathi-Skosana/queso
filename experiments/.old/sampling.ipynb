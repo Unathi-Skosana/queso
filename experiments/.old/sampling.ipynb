{
 "cells": [
  {
   "cell_type": "raw",
   "source": [
    "%load_ext autoreload"
   ],
   "metadata": {
    "collapsed": false,
    "pycharm": {
     "name": ""
    }
   }
  },
  {
   "cell_type": "code",
   "execution_count": 1,
   "outputs": [],
   "source": [
    "%load_ext autoreload\n",
    "%autoreload 2"
   ],
   "metadata": {
    "collapsed": false
   }
  },
  {
   "cell_type": "code",
   "execution_count": 3,
   "outputs": [
    {
     "data": {
      "text/plain": "functools.partial(<function custom at 0x1360ded30>, optimizer=<function auto at 0x1351c1430>, memory_limit=None, debug_level=0)"
     },
     "execution_count": 3,
     "metadata": {},
     "output_type": "execute_result"
    }
   ],
   "source": [
    "import tensorcircuit as tc\n",
    "import jax\n",
    "from jax import random\n",
    "import tqdm\n",
    "import numpy as np\n",
    "import optax\n",
    "import pandas as pd\n",
    "import matplotlib.pyplot as plt\n",
    "import time\n",
    "\n",
    "from queso.io import IO\n",
    "\n",
    "backend = tc.set_backend(\"jax\")\n",
    "tc.set_dtype(\"complex128\")\n",
    "tc.set_contractor(\"auto\")  # “auto”, “greedy”, “branch”, “plain”, “tng”, “custom”"
   ],
   "metadata": {
    "collapsed": false
   }
  },
  {
   "cell_type": "code",
   "execution_count": 4,
   "outputs": [],
   "source": [
    "def cnot_2local_ansatz(params, n, k):\n",
    "    c = tc.Circuit(n)\n",
    "    for i in range(k):\n",
    "        for j in range(n):\n",
    "            c.r(\n",
    "                j,\n",
    "                theta=params[3 * j, i],\n",
    "                alpha=params[3 * j + 1, i],\n",
    "                phi=params[3 * j + 2, i],\n",
    "            )\n",
    "\n",
    "        for j in range(1, n, 2):\n",
    "            c.cnot(j - 1, j)\n",
    "\n",
    "        for j in range(2, n, 2):\n",
    "            c.cnot(j - 1, j)\n",
    "    return c"
   ],
   "metadata": {
    "collapsed": false
   }
  },
  {
   "cell_type": "code",
   "execution_count": 5,
   "outputs": [],
   "source": [
    "n = 15\n",
    "k = 4\n",
    "n_samples = 1000\n",
    "ansatz = \"cnot_2local_ansatz\"\n",
    "seed = 0"
   ],
   "metadata": {
    "collapsed": false
   }
  },
  {
   "cell_type": "code",
   "execution_count": 6,
   "outputs": [],
   "source": [
    "shape = [3 * n, k]\n",
    "key = random.PRNGKey(seed)\n",
    "theta = random.uniform(key, shape, minval=0, maxval=2*np.pi)\n",
    "\n",
    "circ = cnot_2local_ansatz(theta, n, k)"
   ],
   "metadata": {
    "collapsed": false
   }
  },
  {
   "cell_type": "code",
   "execution_count": 7,
   "outputs": [
    {
     "name": "stdout",
     "output_type": "stream",
     "text": [
      "[[0 0 1 0 0 0 1 0 0 1 0 1 1 0 1]\n",
      " [1 0 1 1 0 1 1 1 1 1 1 0 0 0 1]\n",
      " [0 1 1 1 1 0 0 1 1 0 0 1 1 0 1]\n",
      " [0 0 0 0 1 1 0 0 1 0 0 0 1 1 1]\n",
      " [0 0 0 0 1 1 0 1 1 0 1 0 1 0 0]\n",
      " [1 0 0 1 1 0 0 0 1 0 1 1 1 1 0]\n",
      " [1 1 0 0 0 1 0 0 1 0 1 1 0 1 1]\n",
      " [0 1 0 1 1 0 1 1 0 0 1 0 1 1 0]\n",
      " [0 1 0 1 0 1 0 0 1 0 0 1 0 1 0]\n",
      " [0 0 0 0 0 0 0 1 0 1 0 0 0 1 0]]\n"
     ]
    }
   ],
   "source": [
    "x, p = zip(*circ.sample(batch=10))\n",
    "shots = np.stack(x).astype(\"int8\")\n",
    "print(shots)"
   ],
   "metadata": {
    "collapsed": false
   }
  },
  {
   "cell_type": "code",
   "execution_count": 9,
   "outputs": [],
   "source": [
    "import quimb"
   ],
   "metadata": {
    "collapsed": false
   }
  },
  {
   "cell_type": "code",
   "execution_count": null,
   "outputs": [],
   "source": [],
   "metadata": {
    "collapsed": false
   }
  }
 ],
 "metadata": {
  "kernelspec": {
   "display_name": "Python 3",
   "language": "python",
   "name": "python3"
  },
  "language_info": {
   "codemirror_mode": {
    "name": "ipython",
    "version": 2
   },
   "file_extension": ".py",
   "mimetype": "text/x-python",
   "name": "python",
   "nbconvert_exporter": "python",
   "pygments_lexer": "ipython2",
   "version": "2.7.6"
  }
 },
 "nbformat": 4,
 "nbformat_minor": 0
}
