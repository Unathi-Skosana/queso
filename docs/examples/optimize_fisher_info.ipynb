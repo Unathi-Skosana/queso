{
 "cells": [
  {
   "cell_type": "code",
   "execution_count": 9,
   "id": "initial_id",
   "metadata": {
    "collapsed": true,
    "ExecuteTime": {
     "end_time": "2024-01-18T04:30:44.069499906Z",
     "start_time": "2024-01-18T04:30:44.064597777Z"
    }
   },
   "outputs": [],
   "source": [
    "import jax\n",
    "import jax.numpy as jnp\n",
    "from queso.sensors import Sensor"
   ]
  },
  {
   "cell_type": "code",
   "outputs": [],
   "source": [
    "sensor = Sensor(\n",
    "    n = 4,\n",
    "    k = 4,\n",
    "    kwargs = dict(\n",
    "        preparation='hardware_efficient_ansatz',\n",
    "    )\n",
    ")"
   ],
   "metadata": {
    "collapsed": false,
    "ExecuteTime": {
     "end_time": "2024-01-18T04:30:44.567746095Z",
     "start_time": "2024-01-18T04:30:44.555095381Z"
    }
   },
   "id": "a43ca4bcae28b520",
   "execution_count": 10
  },
  {
   "cell_type": "code",
   "outputs": [
    {
     "data": {
      "text/plain": "<bound method Sensor.circuit of <queso.sensors.tc.sensor.Sensor object at 0x7f8789323940>>"
     },
     "execution_count": 11,
     "metadata": {},
     "output_type": "execute_result"
    }
   ],
   "source": [
    "sensor.circuit"
   ],
   "metadata": {
    "collapsed": false,
    "ExecuteTime": {
     "end_time": "2024-01-18T04:30:45.248947596Z",
     "start_time": "2024-01-18T04:30:45.244000555Z"
    }
   },
   "id": "61a308bbe97d28db",
   "execution_count": 11
  },
  {
   "cell_type": "code",
   "outputs": [],
   "source": [
    "key = jax.random.PRNGKey(10)\n",
    "theta = jax.random.uniform(key, sensor.theta.shape)\n",
    "phi = sensor.phi\n",
    "mu = sensor.mu"
   ],
   "metadata": {
    "collapsed": false,
    "ExecuteTime": {
     "end_time": "2024-01-18T04:30:56.380648445Z",
     "start_time": "2024-01-18T04:30:56.375246614Z"
    }
   },
   "id": "325aeb89bd4f8e5d",
   "execution_count": 13
  },
  {
   "cell_type": "code",
   "outputs": [
    {
     "data": {
      "text/plain": "     ┌───┐┌─────┐ ┌───┐      ┌─────┐ ┌───┐      ┌─────┐ ┌───┐      ┌─────┐»\nq_0: ┤ r ├┤1    ├─┤ r ├──────┤1    ├─┤ r ├──────┤1    ├─┤ r ├──────┤1    ├»\n     ├───┤│  cr │┌┴───┴┐┌───┐│  cr │┌┴───┴┐┌───┐│  cr │┌┴───┴┐┌───┐│  cr │»\nq_1: ┤ r ├┤0    ├┤1    ├┤ r ├┤0    ├┤1    ├┤ r ├┤0    ├┤1    ├┤ r ├┤0    ├»\n     ├───┤├─────┤│  cr │├───┤├─────┤│  cr │├───┤├─────┤│  cr │├───┤├─────┤»\nq_2: ┤ r ├┤1    ├┤0    ├┤ r ├┤1    ├┤0    ├┤ r ├┤1    ├┤0    ├┤ r ├┤1    ├»\n     ├───┤│  cr │└┬───┬┘└───┘│  cr │└┬───┬┘└───┘│  cr │└┬───┬┘└───┘│  cr │»\nq_3: ┤ r ├┤0    ├─┤ r ├──────┤0    ├─┤ r ├──────┤0    ├─┤ r ├──────┤0    ├»\n     └───┘└─────┘ └───┘      └─────┘ └───┘      └─────┘ └───┘      └─────┘»\nc: 4/═════════════════════════════════════════════════════════════════════»\n                                                                          »\n«             ░ ┌───────┐ ░ ┌───┐ ░ \n«q_0: ────────░─┤ Rx(0) ├─░─┤ r ├─░─\n«     ┌─────┐ ░ ├───────┤ ░ ├───┤ ░ \n«q_1: ┤1    ├─░─┤ Rx(0) ├─░─┤ r ├─░─\n«     │  cr │ ░ ├───────┤ ░ ├───┤ ░ \n«q_2: ┤0    ├─░─┤ Rx(0) ├─░─┤ r ├─░─\n«     └─────┘ ░ ├───────┤ ░ ├───┤ ░ \n«q_3: ────────░─┤ Rx(0) ├─░─┤ r ├─░─\n«             ░ └───────┘ ░ └───┘ ░ \n«c: 4/══════════════════════════════\n«                                   ",
      "text/html": "<pre style=\"word-wrap: normal;white-space: pre;background: #fff0;line-height: 1.1;font-family: &quot;Courier New&quot;,Courier,monospace\">     ┌───┐┌─────┐ ┌───┐      ┌─────┐ ┌───┐      ┌─────┐ ┌───┐      ┌─────┐»\nq_0: ┤ r ├┤1    ├─┤ r ├──────┤1    ├─┤ r ├──────┤1    ├─┤ r ├──────┤1    ├»\n     ├───┤│  cr │┌┴───┴┐┌───┐│  cr │┌┴───┴┐┌───┐│  cr │┌┴───┴┐┌───┐│  cr │»\nq_1: ┤ r ├┤0    ├┤1    ├┤ r ├┤0    ├┤1    ├┤ r ├┤0    ├┤1    ├┤ r ├┤0    ├»\n     ├───┤├─────┤│  cr │├───┤├─────┤│  cr │├───┤├─────┤│  cr │├───┤├─────┤»\nq_2: ┤ r ├┤1    ├┤0    ├┤ r ├┤1    ├┤0    ├┤ r ├┤1    ├┤0    ├┤ r ├┤1    ├»\n     ├───┤│  cr │└┬───┬┘└───┘│  cr │└┬───┬┘└───┘│  cr │└┬───┬┘└───┘│  cr │»\nq_3: ┤ r ├┤0    ├─┤ r ├──────┤0    ├─┤ r ├──────┤0    ├─┤ r ├──────┤0    ├»\n     └───┘└─────┘ └───┘      └─────┘ └───┘      └─────┘ └───┘      └─────┘»\nc: 4/═════════════════════════════════════════════════════════════════════»\n                                                                          »\n«             ░ ┌───────┐ ░ ┌───┐ ░ \n«q_0: ────────░─┤ Rx(0) ├─░─┤ r ├─░─\n«     ┌─────┐ ░ ├───────┤ ░ ├───┤ ░ \n«q_1: ┤1    ├─░─┤ Rx(0) ├─░─┤ r ├─░─\n«     │  cr │ ░ ├───────┤ ░ ├───┤ ░ \n«q_2: ┤0    ├─░─┤ Rx(0) ├─░─┤ r ├─░─\n«     └─────┘ ░ ├───────┤ ░ ├───┤ ░ \n«q_3: ────────░─┤ Rx(0) ├─░─┤ r ├─░─\n«             ░ └───────┘ ░ └───┘ ░ \n«c: 4/══════════════════════════════\n«                                   </pre>"
     },
     "execution_count": 14,
     "metadata": {},
     "output_type": "execute_result"
    }
   ],
   "source": [
    "sensor.circuit(theta, phi, mu).draw()"
   ],
   "metadata": {
    "collapsed": false,
    "ExecuteTime": {
     "end_time": "2024-01-18T04:30:57.163027789Z",
     "start_time": "2024-01-18T04:30:57.006987797Z"
    }
   },
   "id": "67b504244734a88c",
   "execution_count": 14
  },
  {
   "cell_type": "code",
   "outputs": [
    {
     "data": {
      "text/plain": "(Array([0., 0., 1., 0.], dtype=float64), Array(0.3754805, dtype=float64))"
     },
     "execution_count": 15,
     "metadata": {},
     "output_type": "execute_result"
    }
   ],
   "source": [
    "sensor.circuit(theta, phi, mu).sample()"
   ],
   "metadata": {
    "collapsed": false,
    "ExecuteTime": {
     "end_time": "2024-01-18T04:31:00.369361541Z",
     "start_time": "2024-01-18T04:31:00.156121512Z"
    }
   },
   "id": "a307f23c8697fe98",
   "execution_count": 15
  },
  {
   "cell_type": "code",
   "outputs": [
    {
     "data": {
      "text/plain": "Array(2.23110151, dtype=float64)"
     },
     "execution_count": 16,
     "metadata": {},
     "output_type": "execute_result"
    }
   ],
   "source": [
    "sensor.cfi(theta, phi, mu)"
   ],
   "metadata": {
    "collapsed": false,
    "ExecuteTime": {
     "end_time": "2024-01-18T04:31:04.589495984Z",
     "start_time": "2024-01-18T04:31:01.632358739Z"
    }
   },
   "id": "9394f1af931c9c1a",
   "execution_count": 16
  },
  {
   "cell_type": "code",
   "outputs": [],
   "source": [],
   "metadata": {
    "collapsed": false
   },
   "id": "4116c0933ffe89be"
  }
 ],
 "metadata": {
  "kernelspec": {
   "display_name": "Python 3",
   "language": "python",
   "name": "python3"
  },
  "language_info": {
   "codemirror_mode": {
    "name": "ipython",
    "version": 2
   },
   "file_extension": ".py",
   "mimetype": "text/x-python",
   "name": "python",
   "nbconvert_exporter": "python",
   "pygments_lexer": "ipython2",
   "version": "2.7.6"
  }
 },
 "nbformat": 4,
 "nbformat_minor": 5
}
