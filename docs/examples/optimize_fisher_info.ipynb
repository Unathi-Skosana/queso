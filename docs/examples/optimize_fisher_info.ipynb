{
 "cells": [
  {
   "cell_type": "code",
   "execution_count": 24,
   "id": "initial_id",
   "metadata": {
    "collapsed": true,
    "ExecuteTime": {
     "end_time": "2024-01-19T03:03:02.283560Z",
     "start_time": "2024-01-19T03:03:02.267340Z"
    }
   },
   "outputs": [],
   "source": [
    "import jax\n",
    "from queso.sensors import Sensor"
   ]
  },
  {
   "cell_type": "code",
   "outputs": [],
   "source": [
    "sensor = Sensor(\n",
    "    n = 4,\n",
    "    k = 4,\n",
    "    kwargs = dict(\n",
    "        preparation='hardware_efficient_ansatz',\n",
    "    )\n",
    ")"
   ],
   "metadata": {
    "collapsed": false,
    "ExecuteTime": {
     "end_time": "2024-01-19T03:03:02.846763Z",
     "start_time": "2024-01-19T03:03:02.814721Z"
    }
   },
   "id": "a43ca4bcae28b520",
   "execution_count": 25
  },
  {
   "cell_type": "code",
   "outputs": [
    {
     "data": {
      "text/plain": "<bound method Sensor.circuit of <queso.sensors.tc.sensor.Sensor object at 0x146e3faf0>>"
     },
     "execution_count": 26,
     "metadata": {},
     "output_type": "execute_result"
    }
   ],
   "source": [
    "sensor.circuit"
   ],
   "metadata": {
    "collapsed": false,
    "ExecuteTime": {
     "end_time": "2024-01-19T03:03:03.256325Z",
     "start_time": "2024-01-19T03:03:03.251445Z"
    }
   },
   "id": "61a308bbe97d28db",
   "execution_count": 26
  },
  {
   "cell_type": "code",
   "outputs": [],
   "source": [
    "key = jax.random.PRNGKey(0)\n",
    "\n",
    "theta = jax.random.uniform(key, sensor.theta.shape)\n",
    "phi = sensor.phi\n",
    "mu = sensor.mu"
   ],
   "metadata": {
    "collapsed": false,
    "ExecuteTime": {
     "end_time": "2024-01-19T03:03:03.721731Z",
     "start_time": "2024-01-19T03:03:03.686815Z"
    }
   },
   "id": "325aeb89bd4f8e5d",
   "execution_count": 27
  },
  {
   "cell_type": "code",
   "outputs": [
    {
     "data": {
      "text/plain": "     ┌───┐┌─────┐ ┌───┐      ┌─────┐ ┌───┐      ┌─────┐ ┌───┐      ┌─────┐»\nq_0: ┤ r ├┤1    ├─┤ r ├──────┤1    ├─┤ r ├──────┤1    ├─┤ r ├──────┤1    ├»\n     ├───┤│  cr │┌┴───┴┐┌───┐│  cr │┌┴───┴┐┌───┐│  cr │┌┴───┴┐┌───┐│  cr │»\nq_1: ┤ r ├┤0    ├┤1    ├┤ r ├┤0    ├┤1    ├┤ r ├┤0    ├┤1    ├┤ r ├┤0    ├»\n     ├───┤├─────┤│  cr │├───┤├─────┤│  cr │├───┤├─────┤│  cr │├───┤├─────┤»\nq_2: ┤ r ├┤1    ├┤0    ├┤ r ├┤1    ├┤0    ├┤ r ├┤1    ├┤0    ├┤ r ├┤1    ├»\n     ├───┤│  cr │└┬───┬┘└───┘│  cr │└┬───┬┘└───┘│  cr │└┬───┬┘└───┘│  cr │»\nq_3: ┤ r ├┤0    ├─┤ r ├──────┤0    ├─┤ r ├──────┤0    ├─┤ r ├──────┤0    ├»\n     └───┘└─────┘ └───┘      └─────┘ └───┘      └─────┘ └───┘      └─────┘»\nc: 4/═════════════════════════════════════════════════════════════════════»\n                                                                          »\n«             ░ ┌───────┐ ░ ┌───┐ ░ \n«q_0: ────────░─┤ Rx(0) ├─░─┤ r ├─░─\n«     ┌─────┐ ░ ├───────┤ ░ ├───┤ ░ \n«q_1: ┤1    ├─░─┤ Rx(0) ├─░─┤ r ├─░─\n«     │  cr │ ░ ├───────┤ ░ ├───┤ ░ \n«q_2: ┤0    ├─░─┤ Rx(0) ├─░─┤ r ├─░─\n«     └─────┘ ░ ├───────┤ ░ ├───┤ ░ \n«q_3: ────────░─┤ Rx(0) ├─░─┤ r ├─░─\n«             ░ └───────┘ ░ └───┘ ░ \n«c: 4/══════════════════════════════\n«                                   ",
      "text/html": "<pre style=\"word-wrap: normal;white-space: pre;background: #fff0;line-height: 1.1;font-family: &quot;Courier New&quot;,Courier,monospace\">     ┌───┐┌─────┐ ┌───┐      ┌─────┐ ┌───┐      ┌─────┐ ┌───┐      ┌─────┐»\nq_0: ┤ r ├┤1    ├─┤ r ├──────┤1    ├─┤ r ├──────┤1    ├─┤ r ├──────┤1    ├»\n     ├───┤│  cr │┌┴───┴┐┌───┐│  cr │┌┴───┴┐┌───┐│  cr │┌┴───┴┐┌───┐│  cr │»\nq_1: ┤ r ├┤0    ├┤1    ├┤ r ├┤0    ├┤1    ├┤ r ├┤0    ├┤1    ├┤ r ├┤0    ├»\n     ├───┤├─────┤│  cr │├───┤├─────┤│  cr │├───┤├─────┤│  cr │├───┤├─────┤»\nq_2: ┤ r ├┤1    ├┤0    ├┤ r ├┤1    ├┤0    ├┤ r ├┤1    ├┤0    ├┤ r ├┤1    ├»\n     ├───┤│  cr │└┬───┬┘└───┘│  cr │└┬───┬┘└───┘│  cr │└┬───┬┘└───┘│  cr │»\nq_3: ┤ r ├┤0    ├─┤ r ├──────┤0    ├─┤ r ├──────┤0    ├─┤ r ├──────┤0    ├»\n     └───┘└─────┘ └───┘      └─────┘ └───┘      └─────┘ └───┘      └─────┘»\nc: 4/═════════════════════════════════════════════════════════════════════»\n                                                                          »\n«             ░ ┌───────┐ ░ ┌───┐ ░ \n«q_0: ────────░─┤ Rx(0) ├─░─┤ r ├─░─\n«     ┌─────┐ ░ ├───────┤ ░ ├───┤ ░ \n«q_1: ┤1    ├─░─┤ Rx(0) ├─░─┤ r ├─░─\n«     │  cr │ ░ ├───────┤ ░ ├───┤ ░ \n«q_2: ┤0    ├─░─┤ Rx(0) ├─░─┤ r ├─░─\n«     └─────┘ ░ ├───────┤ ░ ├───┤ ░ \n«q_3: ────────░─┤ Rx(0) ├─░─┤ r ├─░─\n«             ░ └───────┘ ░ └───┘ ░ \n«c: 4/══════════════════════════════\n«                                   </pre>"
     },
     "execution_count": 28,
     "metadata": {},
     "output_type": "execute_result"
    }
   ],
   "source": [
    "sensor.circuit(theta, phi, mu).draw()"
   ],
   "metadata": {
    "collapsed": false,
    "ExecuteTime": {
     "end_time": "2024-01-19T03:03:04.708563Z",
     "start_time": "2024-01-19T03:03:04.136405Z"
    }
   },
   "id": "67b504244734a88c",
   "execution_count": 28
  },
  {
   "cell_type": "code",
   "outputs": [
    {
     "data": {
      "text/plain": "(Array([1., 0., 0., 0.], dtype=float64), Array(0.30638471, dtype=float64))"
     },
     "execution_count": 29,
     "metadata": {},
     "output_type": "execute_result"
    }
   ],
   "source": [
    "sensor.circuit(theta, phi, mu).sample()"
   ],
   "metadata": {
    "collapsed": false,
    "ExecuteTime": {
     "end_time": "2024-01-19T03:03:05.385445Z",
     "start_time": "2024-01-19T03:03:04.710686Z"
    }
   },
   "id": "a307f23c8697fe98",
   "execution_count": 29
  },
  {
   "cell_type": "code",
   "outputs": [
    {
     "data": {
      "text/plain": "Array(2.57157666, dtype=float64)"
     },
     "execution_count": 30,
     "metadata": {},
     "output_type": "execute_result"
    }
   ],
   "source": [
    "sensor.cfi(theta, phi, mu)"
   ],
   "metadata": {
    "collapsed": false,
    "ExecuteTime": {
     "end_time": "2024-01-19T03:03:11.694289Z",
     "start_time": "2024-01-19T03:03:05.782243Z"
    }
   },
   "id": "f7048e8ec6d3a406",
   "execution_count": 30
  }
 ],
 "metadata": {
  "kernelspec": {
   "display_name": "Python 3",
   "language": "python",
   "name": "python3"
  },
  "language_info": {
   "codemirror_mode": {
    "name": "ipython",
    "version": 2
   },
   "file_extension": ".py",
   "mimetype": "text/x-python",
   "name": "python",
   "nbconvert_exporter": "python",
   "pygments_lexer": "ipython2",
   "version": "2.7.6"
  }
 },
 "nbformat": 4,
 "nbformat_minor": 5
}
