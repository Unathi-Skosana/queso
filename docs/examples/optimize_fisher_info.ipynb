{
 "cells": [
  {
   "cell_type": "code",
   "execution_count": 1,
   "id": "initial_id",
   "metadata": {
    "collapsed": true,
    "ExecuteTime": {
     "end_time": "2024-01-18T01:03:01.542936Z",
     "start_time": "2024-01-18T01:02:18.578644Z"
    }
   },
   "outputs": [
    {
     "name": "stderr",
     "output_type": "stream",
     "text": [
      "Please first ``pip install -U cirq`` to enable related functionality in translation module\n"
     ]
    }
   ],
   "source": [
    "from queso.sensors import Sensor"
   ]
  },
  {
   "cell_type": "code",
   "outputs": [],
   "source": [
    "sensor = Sensor(\n",
    "    n = 4,\n",
    "    k = 4,\n",
    "    kwargs = dict(\n",
    "        preparation='hardware_efficient_ansatz',\n",
    "    )\n",
    ")"
   ],
   "metadata": {
    "collapsed": false,
    "ExecuteTime": {
     "end_time": "2024-01-18T01:03:01.619880Z",
     "start_time": "2024-01-18T01:03:01.546208Z"
    }
   },
   "id": "a43ca4bcae28b520",
   "execution_count": 2
  },
  {
   "cell_type": "code",
   "outputs": [
    {
     "data": {
      "text/plain": "<bound method Sensor.circuit of <queso.sensors.tc.sensor.Sensor object at 0x145d28310>>"
     },
     "execution_count": 3,
     "metadata": {},
     "output_type": "execute_result"
    }
   ],
   "source": [
    "sensor.circuit"
   ],
   "metadata": {
    "collapsed": false,
    "ExecuteTime": {
     "end_time": "2024-01-18T01:03:06.696246Z",
     "start_time": "2024-01-18T01:03:06.681421Z"
    }
   },
   "id": "61a308bbe97d28db",
   "execution_count": 3
  },
  {
   "cell_type": "code",
   "outputs": [],
   "source": [
    "theta = sensor.theta\n",
    "phi = sensor.phi\n",
    "mu = sensor.mu"
   ],
   "metadata": {
    "collapsed": false,
    "ExecuteTime": {
     "end_time": "2024-01-18T01:28:34.280907Z",
     "start_time": "2024-01-18T01:28:34.276959Z"
    }
   },
   "id": "325aeb89bd4f8e5d",
   "execution_count": 5
  },
  {
   "cell_type": "code",
   "outputs": [
    {
     "data": {
      "text/plain": "     ┌───┐┌─────┐ ┌───┐      ┌─────┐ ┌───┐      ┌─────┐ ┌───┐      ┌─────┐»\nq_0: ┤ r ├┤1    ├─┤ r ├──────┤1    ├─┤ r ├──────┤1    ├─┤ r ├──────┤1    ├»\n     ├───┤│  cr │┌┴───┴┐┌───┐│  cr │┌┴───┴┐┌───┐│  cr │┌┴───┴┐┌───┐│  cr │»\nq_1: ┤ r ├┤0    ├┤1    ├┤ r ├┤0    ├┤1    ├┤ r ├┤0    ├┤1    ├┤ r ├┤0    ├»\n     ├───┤├─────┤│  cr │├───┤├─────┤│  cr │├───┤├─────┤│  cr │├───┤├─────┤»\nq_2: ┤ r ├┤1    ├┤0    ├┤ r ├┤1    ├┤0    ├┤ r ├┤1    ├┤0    ├┤ r ├┤1    ├»\n     ├───┤│  cr │└┬───┬┘└───┘│  cr │└┬───┬┘└───┘│  cr │└┬───┬┘└───┘│  cr │»\nq_3: ┤ r ├┤0    ├─┤ r ├──────┤0    ├─┤ r ├──────┤0    ├─┤ r ├──────┤0    ├»\n     └───┘└─────┘ └───┘      └─────┘ └───┘      └─────┘ └───┘      └─────┘»\nc: 4/═════════════════════════════════════════════════════════════════════»\n                                                                          »\n«             ░ ┌───────┐ ░ ┌───┐ ░ \n«q_0: ────────░─┤ Rx(0) ├─░─┤ r ├─░─\n«     ┌─────┐ ░ ├───────┤ ░ ├───┤ ░ \n«q_1: ┤1    ├─░─┤ Rx(0) ├─░─┤ r ├─░─\n«     │  cr │ ░ ├───────┤ ░ ├───┤ ░ \n«q_2: ┤0    ├─░─┤ Rx(0) ├─░─┤ r ├─░─\n«     └─────┘ ░ ├───────┤ ░ ├───┤ ░ \n«q_3: ────────░─┤ Rx(0) ├─░─┤ r ├─░─\n«             ░ └───────┘ ░ └───┘ ░ \n«c: 4/══════════════════════════════\n«                                   ",
      "text/html": "<pre style=\"word-wrap: normal;white-space: pre;background: #fff0;line-height: 1.1;font-family: &quot;Courier New&quot;,Courier,monospace\">     ┌───┐┌─────┐ ┌───┐      ┌─────┐ ┌───┐      ┌─────┐ ┌───┐      ┌─────┐»\nq_0: ┤ r ├┤1    ├─┤ r ├──────┤1    ├─┤ r ├──────┤1    ├─┤ r ├──────┤1    ├»\n     ├───┤│  cr │┌┴───┴┐┌───┐│  cr │┌┴───┴┐┌───┐│  cr │┌┴───┴┐┌───┐│  cr │»\nq_1: ┤ r ├┤0    ├┤1    ├┤ r ├┤0    ├┤1    ├┤ r ├┤0    ├┤1    ├┤ r ├┤0    ├»\n     ├───┤├─────┤│  cr │├───┤├─────┤│  cr │├───┤├─────┤│  cr │├───┤├─────┤»\nq_2: ┤ r ├┤1    ├┤0    ├┤ r ├┤1    ├┤0    ├┤ r ├┤1    ├┤0    ├┤ r ├┤1    ├»\n     ├───┤│  cr │└┬───┬┘└───┘│  cr │└┬───┬┘└───┘│  cr │└┬───┬┘└───┘│  cr │»\nq_3: ┤ r ├┤0    ├─┤ r ├──────┤0    ├─┤ r ├──────┤0    ├─┤ r ├──────┤0    ├»\n     └───┘└─────┘ └───┘      └─────┘ └───┘      └─────┘ └───┘      └─────┘»\nc: 4/═════════════════════════════════════════════════════════════════════»\n                                                                          »\n«             ░ ┌───────┐ ░ ┌───┐ ░ \n«q_0: ────────░─┤ Rx(0) ├─░─┤ r ├─░─\n«     ┌─────┐ ░ ├───────┤ ░ ├───┤ ░ \n«q_1: ┤1    ├─░─┤ Rx(0) ├─░─┤ r ├─░─\n«     │  cr │ ░ ├───────┤ ░ ├───┤ ░ \n«q_2: ┤0    ├─░─┤ Rx(0) ├─░─┤ r ├─░─\n«     └─────┘ ░ ├───────┤ ░ ├───┤ ░ \n«q_3: ────────░─┤ Rx(0) ├─░─┤ r ├─░─\n«             ░ └───────┘ ░ └───┘ ░ \n«c: 4/══════════════════════════════\n«                                   </pre>"
     },
     "execution_count": 7,
     "metadata": {},
     "output_type": "execute_result"
    }
   ],
   "source": [
    "sensor.circuit(theta, phi, mu).draw()"
   ],
   "metadata": {
    "collapsed": false,
    "ExecuteTime": {
     "end_time": "2024-01-18T01:28:49.237545Z",
     "start_time": "2024-01-18T01:28:48.757996Z"
    }
   },
   "id": "67b504244734a88c",
   "execution_count": 7
  },
  {
   "cell_type": "code",
   "outputs": [
    {
     "data": {
      "text/plain": "(Array([0., 0., 0., 0.], dtype=float64), Array(1., dtype=float64))"
     },
     "execution_count": 10,
     "metadata": {},
     "output_type": "execute_result"
    }
   ],
   "source": [
    "sensor.circuit(theta, phi, mu).sample()"
   ],
   "metadata": {
    "collapsed": false,
    "ExecuteTime": {
     "end_time": "2024-01-18T01:34:46.324747Z",
     "start_time": "2024-01-18T01:34:45.744419Z"
    }
   },
   "id": "a307f23c8697fe98",
   "execution_count": 10
  }
 ],
 "metadata": {
  "kernelspec": {
   "display_name": "Python 3",
   "language": "python",
   "name": "python3"
  },
  "language_info": {
   "codemirror_mode": {
    "name": "ipython",
    "version": 2
   },
   "file_extension": ".py",
   "mimetype": "text/x-python",
   "name": "python",
   "nbconvert_exporter": "python",
   "pygments_lexer": "ipython2",
   "version": "2.7.6"
  }
 },
 "nbformat": 4,
 "nbformat_minor": 5
}
